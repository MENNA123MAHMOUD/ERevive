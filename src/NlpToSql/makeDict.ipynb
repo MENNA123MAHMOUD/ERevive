{
 "cells": [
  {
   "cell_type": "code",
   "execution_count": 2,
   "metadata": {},
   "outputs": [],
   "source": [
    "import json\n",
    "# Opening JSON file\n",
    "f = open('datasets/cosql_train.json')\n",
    "data = json.load(f)\n",
    "# creating dictionary for \n",
    "# aggregations, group by, and order by\n",
    "agg_dict = {\n",
    "    \"AVG\":[],\n",
    "    \"COUNT\":[],\n",
    "    \"MAX\":[],\n",
    "    \"MIN\":[],\n",
    "    \"SUM\":[]\n",
    "}\n",
    "func_dict = {\n",
    "    \"DISTINCT\":[],\n",
    "    \"EXISTS\":[],\n",
    "    \"LIKE\":[],\n",
    "    \"IN\":[],\n",
    "    \"BETWEEN\":[],\n",
    "    \"LIMIT\":[],\n",
    "    \"OFFSET\":[],\n",
    "}\n",
    "group_dict = []\n",
    "order_dict = []\n",
    "\n",
    "for idx,obj in enumerate(data):\n",
    "    sql = obj['final']['query'].lower()\n",
    "    nlp = obj['final']['utterance']\n",
    "    # extracting aggregations\n",
    "    if 'avg' in sql: agg_dict['AVG'].append(nlp)\n",
    "    if 'count' in sql: agg_dict['COUNT'].append(nlp)\n",
    "    if 'max' in sql: agg_dict['MAX'].append(nlp)\n",
    "    if 'min' in sql: agg_dict['MIN'].append(nlp)\n",
    "    if 'sum' in sql: agg_dict['SUM'].append(nlp)\n",
    "    # extracting functions\n",
    "    if 'distinct' in sql: func_dict['DISTINCT'].append(nlp)\n",
    "    if 'exists' in sql: func_dict['EXISTS'].append(nlp)\n",
    "    if 'like' in sql: func_dict['LIKE'].append(nlp)\n",
    "    if 'in' in sql: func_dict['IN'].append(nlp)\n",
    "    if 'between' in sql: func_dict['BETWEEN'].append(nlp)\n",
    "    if 'limit' in sql: func_dict['LIMIT'].append(nlp)\n",
    "    if 'offset' in sql: func_dict['OFFSET'].append(nlp)\n",
    "    # extracting group by\n",
    "    if 'group by' in sql: group_dict.append(nlp)\n",
    "    # extracting order by\n",
    "    if 'order by' in sql: order_dict.append(nlp)\n"
   ]
  },
  {
   "cell_type": "code",
   "execution_count": 3,
   "metadata": {},
   "outputs": [],
   "source": [
    "with open(\"datasets/group_dict.json\", \"w\") as outfile:\n",
    "    json.dump(group_dict,outfile)"
   ]
  },
  {
   "cell_type": "code",
   "execution_count": 4,
   "metadata": {},
   "outputs": [],
   "source": [
    "with open(\"datasets/agg_dict_avg.json\", \"w\") as outfile:\n",
    "    json.dump(agg_dict['AVG'],outfile)"
   ]
  },
  {
   "cell_type": "code",
   "execution_count": 5,
   "metadata": {},
   "outputs": [],
   "source": [
    "with open(\"datasets/agg_dict_max.json\", \"w\") as outfile:\n",
    "    json.dump(agg_dict['MAX'],outfile)"
   ]
  },
  {
   "cell_type": "code",
   "execution_count": 6,
   "metadata": {},
   "outputs": [],
   "source": [
    "with open(\"datasets/agg_dict_min.json\", \"w\") as outfile:\n",
    "    json.dump(agg_dict['MIN'],outfile)"
   ]
  },
  {
   "cell_type": "code",
   "execution_count": 7,
   "metadata": {},
   "outputs": [],
   "source": [
    "with open(\"datasets/agg_dict_count.json\", \"w\") as outfile:\n",
    "    json.dump(agg_dict['COUNT'],outfile)"
   ]
  },
  {
   "cell_type": "code",
   "execution_count": 8,
   "metadata": {},
   "outputs": [],
   "source": [
    "with open(\"datasets/agg_dict_sum.json\", \"w\") as outfile:\n",
    "    json.dump(agg_dict['SUM'],outfile)"
   ]
  },
  {
   "cell_type": "code",
   "execution_count": 9,
   "metadata": {},
   "outputs": [],
   "source": [
    "with open(\"datasets/agg_dict_sum.json\", \"w\") as outfile:\n",
    "    json.dump(agg_dict['SUM'],outfile)"
   ]
  },
  {
   "cell_type": "code",
   "execution_count": 10,
   "metadata": {},
   "outputs": [],
   "source": [
    "with open(\"datasets/agg_dict_order.json\", \"w\") as outfile:\n",
    "    json.dump(order_dict,outfile)"
   ]
  },
  {
   "cell_type": "code",
   "execution_count": 11,
   "metadata": {},
   "outputs": [],
   "source": [
    "func_dict_keys = list(func_dict.keys())\n",
    "for key in func_dict_keys:\n",
    "    with open(\"datasets/func_dict_\"+key+\".json\", \"w\") as outfile:\n",
    "        json.dump(func_dict[key],outfile)\n"
   ]
  },
  {
   "cell_type": "code",
   "execution_count": null,
   "metadata": {},
   "outputs": [],
   "source": [
    "import spacy \n",
    "from spacy import displacy \n",
    "nlp = spacy.load(\"en_core_web_sm\")\n",
    "sentence = \"The quick brown fox jumping over the lazy dog\"\n",
    "doc = nlp(sentence)\n",
    "print(f\"{'Node (from)-->':<15} {'Relation':^10} {'-->Node (to)':>15}\\n\")\n",
    "for token in doc:\n",
    "    print(\"{:<15} {:^10} {:>15}\".format(str(token.head.text), str(token.dep_), str(token.text)))\n",
    "displacy.render(doc, style='dep')"
   ]
  }
 ],
 "metadata": {
  "interpreter": {
   "hash": "31faeaad3fdea5a5955c12941e7115306d6da163d7ca68751f039d44f2e04c3f"
  },
  "kernelspec": {
   "display_name": "Python 3.7.11",
   "language": "python",
   "name": "python3"
  },
  "language_info": {
   "codemirror_mode": {
    "name": "ipython",
    "version": 3
   },
   "file_extension": ".py",
   "mimetype": "text/x-python",
   "name": "python",
   "nbconvert_exporter": "python",
   "pygments_lexer": "ipython3",
   "version": "3.7.11"
  },
  "orig_nbformat": 4
 },
 "nbformat": 4,
 "nbformat_minor": 2
}
