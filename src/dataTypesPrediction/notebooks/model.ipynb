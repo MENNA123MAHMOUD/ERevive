{
 "cells": [
  {
   "cell_type": "code",
   "execution_count": 76,
   "source": [
    "import pandas as pd\n",
    "import re\n",
    "import pickle\n",
    "import numpy as np\n",
    "import json\n",
    "from sklearn.model_selection import train_test_split\n",
    "from sklearn.naive_bayes import MultinomialNB\n",
    "from sklearn.model_selection import cross_val_score\n",
    "from sklearn.feature_extraction.text import TfidfVectorizer"
   ],
   "outputs": [],
   "metadata": {}
  },
  {
   "cell_type": "code",
   "execution_count": 77,
   "source": [
    "def extractFeatures(df):\n",
    "    tfidf = TfidfVectorizer(encoding='latin-1', \n",
    "                            max_df=0.9288781834957359,\n",
    "                            min_df=2, \n",
    "                            ngram_range=(1, 3),\n",
    "                            sublinear_tf=True, \n",
    "                            token_pattern='\\\\w{1,}')\n",
    "\n",
    "    features = tfidf.fit_transform(df.word).toarray()\n",
    "    labels = df.dataType_id\n",
    "\n",
    "    #Save vectorizer.vocabulary_\n",
    "    pickle.dump(tfidf.vocabulary_,open(\"../modelOutput/TfidfVocabulary.pkl\",\"wb\"))\n",
    "\n",
    "    return features,labels"
   ],
   "outputs": [],
   "metadata": {}
  },
  {
   "cell_type": "code",
   "execution_count": 78,
   "source": [
    "def tryModels(features , labels):\n",
    "    models = [\n",
    "              #RandomForestClassifier(n_estimators=200, max_depth=3, random_state=0),\n",
    "              #LinearSVC(),\n",
    "              MultinomialNB(alpha=0.3382826838838474),\n",
    "              #LogisticRegression(random_state=0)\n",
    "              ]\n",
    "    folds_no = 5\n",
    "    cv_df = pd.DataFrame(index=range(folds_no * len(models)))\n",
    "    entries = []\n",
    "    for model in models:\n",
    "      model_name = model.__class__.__name__\n",
    "      accuracies = cross_val_score(model, features, labels, scoring='accuracy', cv=folds_no)\n",
    "      for fold_idx, accuracy in enumerate(accuracies):\n",
    "        entries.append((model_name, fold_idx, accuracy))\n",
    "      print(\"finsihed cross validation for model: \",model_name)\n",
    "    cv_df = pd.DataFrame(entries, columns=['model_name', 'fold_idx', 'accuracy'])\n",
    "    return cv_df"
   ],
   "outputs": [],
   "metadata": {}
  },
  {
   "cell_type": "code",
   "execution_count": 79,
   "source": [
    "def extractNewWordFeatures(word):\n",
    "    oldtfidf = pickle.load(open(\"../modelOutput/TfidfVocabulary.pkl\", 'rb'))\n",
    "    \n",
    "    #print(oldtfidf)\n",
    "    tfidf = TfidfVectorizer(encoding='latin-1', \n",
    "                            max_df=0.4662381347098422,\n",
    "                            min_df=2, \n",
    "                            ngram_range=(1, 3),\n",
    "                            sublinear_tf=True, \n",
    "                            token_pattern='\\\\w{1,}',\n",
    "                            vocabulary = oldtfidf)\n",
    "    \n",
    "\n",
    "    features = tfidf.fit_transform(word)\n",
    "    return features"
   ],
   "outputs": [],
   "metadata": {}
  },
  {
   "cell_type": "code",
   "execution_count": 80,
   "source": [
    "def cleanColName(colName):\n",
    "    #remove names with one character \n",
    "    if len(colName) <= 1:\n",
    "        return colName.lower()\n",
    "    \n",
    "    #remove names that are only numbers\n",
    "    result = re.search(\"^[ 0-9]+$\", colName)\n",
    "    if result is not None:\n",
    "        return colName\n",
    "    \n",
    "    #remove numbers at the end of the string \n",
    "    colName = re.sub(\"[0-9]+$\", '', colName)\n",
    "    \n",
    "    #replace _ with space\n",
    "    colName = colName.replace(\"_\",\" \")\n",
    "    \n",
    "    #if all capital cases make it small or if it seperated by spaces\n",
    "    if colName.isupper() == True or len(colName.split()) > 1:\n",
    "        colName = colName.lower()\n",
    "    \n",
    "    #seperate pascal\n",
    "    if re.search('^[a-z]+[A-Z]+', colName) is not None:\n",
    "        words = re.findall('[A-Z][^A-Z]*', colName)\n",
    "        if len(words) > 1 and len(words[0]) == 1 and len(words[1]) == 1:\n",
    "            result = ''.join(words) \n",
    "        else:\n",
    "            result = ' '.join(words) \n",
    "        colName = colName.split(re.findall('[A-Z][^A-Z]*', colName)[0])[0]+' ' + result\n",
    "        colName = colName.lower()\n",
    "    \n",
    "    #seperate camal cases\n",
    "    if len(re.findall('[A-Z][^A-Z]*', colName)) >0:\n",
    "        words = re.findall('[A-Z][^A-Z]*', colName)\n",
    "        newWords = []  \n",
    "        i = 0 \n",
    "        while i<len(words):\n",
    "            if i+1<len(words) and len(words[i])==1 and len(words[i+1])==1:\n",
    "                newWords.append(words[i]+words[i+1])\n",
    "                i+=1\n",
    "            else:\n",
    "                newWords.append(words[i])\n",
    "            i+=1\n",
    "        colName = ' '.join(newWords)\n",
    "      \n",
    "    #remove multiple spaces\n",
    "    colName = ' '.join(colName.split())\n",
    "    \n",
    "    #convert to lower case\n",
    "    colName = colName.lower()\n",
    "    return colName\n",
    "    \n"
   ],
   "outputs": [],
   "metadata": {}
  },
  {
   "cell_type": "code",
   "execution_count": 81,
   "source": [
    "def predictWordsTypes(words,model):\n",
    "    cleaned_words = [cleanColName(i) for i in words]\n",
    "\n",
    "    features = extractNewWordFeatures(cleaned_words)\n",
    "    preds = model.predict(features)\n",
    "\n",
    "    outTypes = [id_to_category[i] for i in preds]\n",
    "    dic = dict(zip(words,outTypes))\n",
    "    return dic"
   ],
   "outputs": [],
   "metadata": {}
  },
  {
   "cell_type": "markdown",
   "source": [
    "<h1>Read Dataset</h1>"
   ],
   "metadata": {}
  },
  {
   "cell_type": "code",
   "execution_count": 82,
   "source": [
    "many_types_4_py_df = pd.read_csv(\"../datasets/manytypes4py/data.csv\")\n",
    "many_types_4_py_df.head()\n",
    "\n",
    "sql_df = pd.read_csv(\"../datasets/schemas/data.csv\")\n",
    "sql_df.head()\n"
   ],
   "outputs": [
    {
     "output_type": "execute_result",
     "data": {
      "text/html": [
       "<div>\n",
       "<style scoped>\n",
       "    .dataframe tbody tr th:only-of-type {\n",
       "        vertical-align: middle;\n",
       "    }\n",
       "\n",
       "    .dataframe tbody tr th {\n",
       "        vertical-align: top;\n",
       "    }\n",
       "\n",
       "    .dataframe thead th {\n",
       "        text-align: right;\n",
       "    }\n",
       "</style>\n",
       "<table border=\"1\" class=\"dataframe\">\n",
       "  <thead>\n",
       "    <tr style=\"text-align: right;\">\n",
       "      <th></th>\n",
       "      <th>word</th>\n",
       "      <th>dataType</th>\n",
       "    </tr>\n",
       "  </thead>\n",
       "  <tbody>\n",
       "    <tr>\n",
       "      <td>0</td>\n",
       "      <td>country name</td>\n",
       "      <td>STR</td>\n",
       "    </tr>\n",
       "    <tr>\n",
       "      <td>1</td>\n",
       "      <td>country code</td>\n",
       "      <td>STR</td>\n",
       "    </tr>\n",
       "    <tr>\n",
       "      <td>2</td>\n",
       "      <td>indicator name</td>\n",
       "      <td>STR</td>\n",
       "    </tr>\n",
       "    <tr>\n",
       "      <td>3</td>\n",
       "      <td>indicator code</td>\n",
       "      <td>STR</td>\n",
       "    </tr>\n",
       "    <tr>\n",
       "      <td>4</td>\n",
       "      <td>sales order id</td>\n",
       "      <td>INTEGER</td>\n",
       "    </tr>\n",
       "  </tbody>\n",
       "</table>\n",
       "</div>"
      ],
      "text/plain": [
       "             word dataType\n",
       "0    country name      STR\n",
       "1    country code      STR\n",
       "2  indicator name      STR\n",
       "3  indicator code      STR\n",
       "4  sales order id  INTEGER"
      ]
     },
     "metadata": {},
     "execution_count": 82
    }
   ],
   "metadata": {}
  },
  {
   "cell_type": "markdown",
   "source": [
    "<h1>Prepaire DatatFrame</h1>"
   ],
   "metadata": {}
  },
  {
   "cell_type": "markdown",
   "source": [
    "<h2>Merge datasets</h2>"
   ],
   "metadata": {}
  },
  {
   "cell_type": "code",
   "execution_count": 83,
   "source": [
    "#sql_df = sql_df[np.isin(sql_df, ['TIME','BOOL']).any(axis=1)]\n",
    "#sql_df = sql_df.replace(['TIME','BOOL'],['datetime','bool'])\n",
    "#sql_df.head()\n",
    "\n",
    "df = pd.concat([sql_df,many_types_4_py_df])\n",
    "df.head()\n",
    "df = df.replace(['STR','INTEGER','TIME','FLOAT','BINARY'],['str','int','datetime','float','bool'])\n",
    "\n",
    "#df = many_types_4_py_df"
   ],
   "outputs": [],
   "metadata": {}
  },
  {
   "cell_type": "markdown",
   "source": [
    "<h3>Prepair dataframe :</h3>"
   ],
   "metadata": {}
  },
  {
   "cell_type": "code",
   "execution_count": 84,
   "source": [
    "df['dataType_id'] = df['dataType'].factorize()[0]\n",
    "category_id_df = df[['dataType', 'dataType_id']].drop_duplicates().sort_values('dataType_id')\n",
    "category_to_id = dict(category_id_df.values)\n",
    "id_to_category = {v: k for k, v in category_to_id.items()}\n",
    "print(category_to_id)\n",
    "print(id_to_category)\n",
    "df.head()\n",
    "df = df.dropna()\n",
    "df = df.drop_duplicates(['word','dataType'] , 'first')\n",
    "\n",
    "#duplicate = df[df.duplicated(['word'] , False)]\n",
    "#sorted_dub = duplicate.sort_values(by=['word'])\n",
    "#print(len(sorted_dub))\n",
    "#sorted_dub.to_csv(\"duplicates_in_df.csv\")\n",
    "#df.to_csv(\"df.csv\")\n"
   ],
   "outputs": [
    {
     "output_type": "stream",
     "name": "stdout",
     "text": [
      "{'str': 0, 'int': 1, 'datetime': 2, 'float': 3, 'bool': 4}\n",
      "{0: 'str', 1: 'int', 2: 'datetime', 3: 'float', 4: 'bool'}\n"
     ]
    }
   ],
   "metadata": {}
  },
  {
   "cell_type": "markdown",
   "source": [
    "dumb dic of data:"
   ],
   "metadata": {}
  },
  {
   "cell_type": "code",
   "execution_count": 85,
   "source": [
    "json.dump(id_to_category, open(\"../modelOutput/id_to_category.txt\",'w'))\n"
   ],
   "outputs": [],
   "metadata": {}
  },
  {
   "cell_type": "code",
   "execution_count": 86,
   "source": [
    "X = df.word\n",
    "Y = df[\"dataType_id\"]\n",
    "X_train , X_test , Y_train , Y_test = train_test_split(X,Y,test_size =0.25,stratify = Y)\n",
    "\n",
    "train = pd.concat([X_train, Y_train], axis=1)\n",
    "test = pd.concat([X_test, Y_test], axis=1)\n"
   ],
   "outputs": [],
   "metadata": {}
  },
  {
   "cell_type": "code",
   "execution_count": 87,
   "source": [
    "#TF IDF\n",
    "features , labels = extractFeatures(train)\n"
   ],
   "outputs": [],
   "metadata": {}
  },
  {
   "cell_type": "code",
   "execution_count": 88,
   "source": [
    "#cv_df = tryModels(features , labels)\n",
    "model = MultinomialNB(alpha=0.06926447564538141)\n",
    "model.fit(features,labels)\n",
    "pickle.dump( model, open( \"../modelOutput/model.sav\", \"wb\" ))\n",
    "#accuracies = cross_val_score(model, features, labels, scoring='accuracy', cv=3)\n"
   ],
   "outputs": [],
   "metadata": {}
  },
  {
   "cell_type": "markdown",
   "source": [
    "<h1>Calculate accuracy:</h1>"
   ],
   "metadata": {}
  },
  {
   "cell_type": "code",
   "execution_count": 89,
   "source": [
    "features = extractNewWordFeatures(test.word)\n",
    "true_preds = test[\"dataType_id\"].values \n",
    "preds = model.predict(features)\n",
    "\n",
    "print(preds)\n",
    "print(true_preds)\n",
    "\n",
    "accuracy = (sum(preds == true_preds) / len(preds))*100\n",
    "print(\"test set accuracy = \",accuracy)\n"
   ],
   "outputs": [
    {
     "output_type": "stream",
     "name": "stdout",
     "text": [
      "[0 0 1 ... 0 0 1]\n",
      "[4 1 1 ... 0 1 3]\n",
      "test set accuracy =  72.95913825336063\n"
     ]
    }
   ],
   "metadata": {}
  },
  {
   "cell_type": "markdown",
   "source": [
    "<h1>Predict:</h1>"
   ],
   "metadata": {}
  },
  {
   "cell_type": "code",
   "execution_count": 90,
   "source": [
    "words = [\"name\",\"sex\",\"birth_date\",\"relationship\",\"hours\",\"name\",\"budget\",\"location\",\"locations\",\"ssn\",\"status\",\"salary\",\"address\",\"first_name\",\"middle_initial\",\"last_name\",\"start_date\"]\n",
    "model = pickle.load(open(\"../modelOutput/model.sav\", 'rb'))\n",
    "print(predictWordsTypes(words,model))"
   ],
   "outputs": [
    {
     "output_type": "stream",
     "name": "stdout",
     "text": [
      "{'name': 'str', 'sex': 'str', 'birth_date': 'datetime', 'relationship': 'str', 'hours': 'int', 'budget': 'float', 'location': 'str', 'locations': 'str', 'ssn': 'str', 'status': 'str', 'salary': 'float', 'address': 'str', 'first_name': 'str', 'middle_initial': 'str', 'last_name': 'str', 'start_date': 'datetime'}\n"
     ]
    }
   ],
   "metadata": {}
  },
  {
   "cell_type": "code",
   "execution_count": null,
   "source": [],
   "outputs": [],
   "metadata": {}
  }
 ],
 "metadata": {
  "kernelspec": {
   "name": "python3",
   "display_name": "Python 3.7.4 64-bit ('base': conda)"
  },
  "language_info": {
   "name": "python",
   "version": "3.7.4",
   "mimetype": "text/x-python",
   "codemirror_mode": {
    "name": "ipython",
    "version": 3
   },
   "pygments_lexer": "ipython3",
   "nbconvert_exporter": "python",
   "file_extension": ".py"
  },
  "interpreter": {
   "hash": "0615709d7279404c6ba8fdcf2d0cf6d020b1f6cacc29aaa08e70b0c88ea103cc"
  }
 },
 "nbformat": 4,
 "nbformat_minor": 2
}