{
 "cells": [
  {
   "cell_type": "code",
   "execution_count": 28,
   "source": [
    "import re\n",
    "import pickle\n",
    "import json\n",
    "from sklearn.feature_extraction.text import TfidfVectorizer"
   ],
   "outputs": [],
   "metadata": {}
  },
  {
   "cell_type": "code",
   "execution_count": 29,
   "source": [
    "def extractNewWordFeatures(word):\n",
    "    oldtfidf = pickle.load(open(\"TfidfVocabulary.pkl\", 'rb'))\n",
    "    \n",
    "    #print(oldtfidf)\n",
    "    tfidf = TfidfVectorizer(encoding='latin-1', \n",
    "                            max_df=0.4662381347098422,\n",
    "                            min_df=2, \n",
    "                            ngram_range=(1, 3),\n",
    "                            sublinear_tf=True, \n",
    "                            token_pattern='\\\\w{1,}',\n",
    "                            vocabulary = oldtfidf)\n",
    "    \n",
    "\n",
    "    features = tfidf.fit_transform(word)\n",
    "    return features"
   ],
   "outputs": [],
   "metadata": {}
  },
  {
   "cell_type": "code",
   "execution_count": 30,
   "source": [
    "def cleanColName(colName):\n",
    "    #remove names with one character \n",
    "    if len(colName) <= 1:\n",
    "        return colName\n",
    "    \n",
    "    #remove names that are only numbers\n",
    "    result = re.search(\"^[ 0-9]+$\", colName)\n",
    "    if result is not None:\n",
    "        return colName\n",
    "    \n",
    "    #remove numbers at the end of the string \n",
    "    colName = re.sub(\"[0-9]+$\", '', colName)\n",
    "    \n",
    "    #replace _ with space\n",
    "    colName = colName.replace(\"_\",\" \")\n",
    "    \n",
    "    #if all capital cases make it small or if it seperated by spaces\n",
    "    if colName.isupper() == True or len(colName.split()) > 1:\n",
    "        colName = colName.lower()\n",
    "    \n",
    "    #seperate pascal\n",
    "    if re.search('^[a-z]+[A-Z]+', colName) is not None:\n",
    "        words = re.findall('[A-Z][^A-Z]*', colName)\n",
    "        if len(words) > 1 and len(words[0]) == 1 and len(words[1]) == 1:\n",
    "            result = ''.join(words) \n",
    "        else:\n",
    "            result = ' '.join(words) \n",
    "        colName = colName.split(re.findall('[A-Z][^A-Z]*', colName)[0])[0]+' ' + result\n",
    "        colName = colName.lower()\n",
    "    \n",
    "    #seperate camal cases\n",
    "    if len(re.findall('[A-Z][^A-Z]*', colName)) >0:\n",
    "        words = re.findall('[A-Z][^A-Z]*', colName)\n",
    "        newWords = []  \n",
    "        i = 0 \n",
    "        while i<len(words):\n",
    "            if i+1<len(words) and len(words[i])==1 and len(words[i+1])==1:\n",
    "                newWords.append(words[i]+words[i+1])\n",
    "                i+=1\n",
    "            else:\n",
    "                newWords.append(words[i])\n",
    "            i+=1\n",
    "        colName = ' '.join(newWords)\n",
    "      \n",
    "    #remove multiple spaces\n",
    "    colName = ' '.join(colName.split())\n",
    "    \n",
    "    #convert to lower case\n",
    "    colName = colName.lower()\n",
    "    return colName\n",
    "    \n"
   ],
   "outputs": [],
   "metadata": {}
  },
  {
   "cell_type": "code",
   "execution_count": 31,
   "source": [
    "def predictWordsTypes(words,model,id_to_category):\n",
    "    cleaned_words = [cleanColName(i) for i in words]\n",
    "\n",
    "    features = extractNewWordFeatures(cleaned_words)\n",
    "    preds = model.predict(features)\n",
    "    outTypes = [id_to_category[str(i)] for i in preds]\n",
    "    dic = dict(zip(words,outTypes))\n",
    "    return dic"
   ],
   "outputs": [],
   "metadata": {}
  },
  {
   "cell_type": "markdown",
   "source": [
    "<h1>Load model and types dictionary:</h1>"
   ],
   "metadata": {}
  },
  {
   "cell_type": "code",
   "execution_count": 32,
   "source": [
    "model = pickle.load(open(\"model.sav\", 'rb'))\n",
    "id_to_category = json.load(open(\"id_to_category.txt\"))"
   ],
   "outputs": [],
   "metadata": {}
  },
  {
   "cell_type": "markdown",
   "source": [
    "<h1>Predict:</h1>"
   ],
   "metadata": {}
  },
  {
   "cell_type": "code",
   "execution_count": 33,
   "source": [
    "words = [\"name\",\"sex\",\"birth_date\",\"relationship\",\"hours\",\"name\",\"budget\",\"location\",\"locations\",\"ssn\",\"status\",\"salary\",\"address\",\"first_name\",\"middle_initial\",\"last_name\",\"start_date\"]\n",
    "print(predictWordsTypes(words,model,id_to_category))"
   ],
   "outputs": [
    {
     "output_type": "stream",
     "name": "stdout",
     "text": [
      "{'name': 'str', 'sex': 'str', 'birth_date': 'datetime', 'relationship': 'str', 'hours': 'str', 'budget': 'str', 'location': 'str', 'locations': 'str', 'ssn': 'str', 'status': 'str', 'salary': 'float', 'address': 'str', 'first_name': 'str', 'middle_initial': 'str', 'last_name': 'str', 'start_date': 'datetime'}\n"
     ]
    }
   ],
   "metadata": {}
  },
  {
   "cell_type": "markdown",
   "source": [],
   "metadata": {}
  }
 ],
 "metadata": {
  "orig_nbformat": 4,
  "language_info": {
   "name": "python",
   "version": "3.7.4",
   "mimetype": "text/x-python",
   "codemirror_mode": {
    "name": "ipython",
    "version": 3
   },
   "pygments_lexer": "ipython3",
   "nbconvert_exporter": "python",
   "file_extension": ".py"
  },
  "kernelspec": {
   "name": "python3",
   "display_name": "Python 3.7.4 64-bit ('base': conda)"
  },
  "interpreter": {
   "hash": "0615709d7279404c6ba8fdcf2d0cf6d020b1f6cacc29aaa08e70b0c88ea103cc"
  }
 },
 "nbformat": 4,
 "nbformat_minor": 2
}