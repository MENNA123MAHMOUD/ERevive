{
 "metadata": {
  "language_info": {
   "codemirror_mode": {
    "name": "ipython",
    "version": 3
   },
   "file_extension": ".py",
   "mimetype": "text/x-python",
   "name": "python",
   "nbconvert_exporter": "python",
   "pygments_lexer": "ipython3",
   "version": "3.7.11"
  },
  "orig_nbformat": 4,
  "kernelspec": {
   "name": "python3",
   "display_name": "Python 3.7.11 64-bit ('base': conda)"
  },
  "interpreter": {
   "hash": "9ca2a6701a14c49af8de80647c71f1770f3d09bf5589e6aad684858921f594a2"
  }
 },
 "nbformat": 4,
 "nbformat_minor": 2,
 "cells": [
  {
   "cell_type": "code",
   "execution_count": 1,
   "metadata": {},
   "outputs": [],
   "source": [
    "import cv2\n",
    "import numpy as np\n",
    "from skimage.morphology import (erosion, dilation, opening, closing,  # noqa\n",
    "                                white_tophat)\n",
    "from skimage.measure import find_contours\n",
    "import matplotlib.pyplot as plt\n",
    "from skimage.draw import rectangle\n",
    "%matplotlib inline "
   ]
  },
  {
   "cell_type": "code",
   "execution_count": 13,
   "metadata": {},
   "outputs": [],
   "source": [
    "im_dir = \"er1.png\"\n",
    "image = cv2.imread(im_dir)\n",
    "im_in = cv2.imread(im_dir, cv2.IMREAD_GRAYSCALE)\n",
    "th, im_th = cv2.threshold(im_in, 220, 255, cv2.THRESH_BINARY_INV)"
   ]
  },
  {
   "cell_type": "code",
   "execution_count": 14,
   "metadata": {},
   "outputs": [],
   "source": [
    "# apply connected component analysis to the thresholded image\n",
    "output = cv2.connectedComponentsWithStats(im_th, 8, cv2.CV_32S)\n",
    "(numLabels, labels, stats, centroids) = output"
   ]
  },
  {
   "cell_type": "code",
   "execution_count": 40,
   "metadata": {},
   "outputs": [],
   "source": [
    "# loop over the number of unique connected component labels\n",
    "for i in range(0, numLabels):\n",
    "    x = stats[i, cv2.CC_STAT_LEFT]\n",
    "    y = stats[i, cv2.CC_STAT_TOP]\n",
    "    w = stats[i, cv2.CC_STAT_WIDTH]\n",
    "    h = stats[i, cv2.CC_STAT_HEIGHT]\n",
    "    area = stats[i, cv2.CC_STAT_AREA]\n",
    "    cX, cY = centroids[i]\n",
    "    output = image.copy()\n",
    "    cv2.rectangle(output, (x, y), (x + w, y + h), (0, 255, 0), 3)\n",
    "    cv2.circle(output, (int(cX), int(cY)), 4, (0, 0, 255), -1)\n",
    "    componentMask = (labels == i).astype(\"uint8\") * 255\n",
    "    # show our output image and connected component mask\n",
    "    cv2.imwrite(\"components/Output\"+str(i)+\".png\", output)\n",
    "    cv2.imwrite(\"components/Connected_Component\"+str(i)+\".png\", componentMask)"
   ]
  },
  {
   "cell_type": "code",
   "execution_count": null,
   "metadata": {},
   "outputs": [],
   "source": []
  }
 ]
}