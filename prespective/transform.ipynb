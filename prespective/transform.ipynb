{
 "metadata": {
  "language_info": {
   "codemirror_mode": {
    "name": "ipython",
    "version": 3
   },
   "file_extension": ".py",
   "mimetype": "text/x-python",
   "name": "python",
   "nbconvert_exporter": "python",
   "pygments_lexer": "ipython3",
   "version": "3.7.11"
  },
  "orig_nbformat": 4,
  "kernelspec": {
   "name": "python3",
   "display_name": "Python 3.7.11 64-bit ('base': conda)"
  },
  "interpreter": {
   "hash": "9ca2a6701a14c49af8de80647c71f1770f3d09bf5589e6aad684858921f594a2"
  }
 },
 "nbformat": 4,
 "nbformat_minor": 2,
 "cells": [
  {
   "cell_type": "code",
   "execution_count": 140,
   "metadata": {},
   "outputs": [],
   "source": [
    "# from transform import four_point_transform\n",
    "\n",
    "from skimage.filters import threshold_local,threshold_otsu,try_all_threshold\n",
    "import numpy as np\n",
    "import cv2\n",
    "import imutils\n",
    "from skimage.util.shape import view_as_windows"
   ]
  },
  {
   "cell_type": "code",
   "execution_count": 42,
   "metadata": {},
   "outputs": [],
   "source": [
    "def order_points(pts):\n",
    "    rect = np.zeros((4, 2), dtype = \"float32\")\n",
    " \n",
    "    s = pts.sum(axis = 1)\n",
    "    rect[0] = pts[np.argmin(s)]\n",
    "    rect[2] = pts[np.argmax(s)]\n",
    "    diff = np.diff(pts, axis = 1)\n",
    "    rect[1] = pts[np.argmin(diff)]\n",
    "    rect[3] = pts[np.argmax(diff)]\n",
    " \n",
    "    return rect\n",
    "\n",
    "def four_point_transform(image, pts):\n",
    "    rect = order_points(pts)\n",
    "    (tl, tr, br, bl) = rect\n",
    " \n",
    " \n",
    "    widthA = np.sqrt(((br[0] - bl[0]) ** 2) + ((br[1] - bl[1]) ** 2))\n",
    "    widthB = np.sqrt(((tr[0] - tl[0]) ** 2) + ((tr[1] - tl[1]) ** 2))\n",
    "    maxWidth = max(int(widthA), int(widthB))\n",
    "    heightA = np.sqrt(((tr[0] - br[0]) ** 2) + ((tr[1] - br[1]) ** 2))\n",
    "    heightB = np.sqrt(((tl[0] - bl[0]) ** 2) + ((tl[1] - bl[1]) ** 2))\n",
    "    maxHeight = max(int(heightA), int(heightB))\n",
    "    dst = np.array([\n",
    "  [0, 0],\n",
    "  [maxWidth - 1, 0],\n",
    "  [maxWidth - 1, maxHeight - 1],\n",
    "  [0, maxHeight - 1]], dtype = \"float32\")\n",
    " \n",
    "    M = cv2.getPerspectiveTransform(rect, dst)\n",
    "    warped = cv2.warpPerspective(image, M, (maxWidth, maxHeight))\n",
    " \n",
    "    return warped"
   ]
  },
  {
   "cell_type": "code",
   "execution_count": 121,
   "metadata": {},
   "outputs": [],
   "source": [
    "###########################illumination and binarization####################\n",
    "#Illumenation\n",
    "from math import pi\n",
    "def simplestColorBalance(img,s):\n",
    "    s/=100\n",
    "    n,m=img.shape\n",
    "    f=img.flatten()\n",
    "    f.sort()\n",
    "    minT=f[int(s*n*m)]\n",
    "    maxT=f[ n*m - int(s*n*m) - 1]\n",
    "    img=np.where(img<minT,0,img)\n",
    "    img=np.where(img>maxT,255,img)\n",
    "    img=np.where((img!=0)&(img!=255),255*((img-minT)/(maxT-minT)),img)\n",
    "    return img\n",
    "def poisonScreening(img,L):\n",
    "    n,m=img.shape\n",
    "    img_freq=cv2.dft(img)\n",
    "    for i in range(n):\n",
    "        for j in range(m):\n",
    "            coef=(pi*pi*i*i)/(n*n) + (pi*pi*j*j)/(m*m)\n",
    "            img_freq[i][j]=(img_freq[i][j]*coef)/(L+coef)\n",
    "    img=cv2.idft(img_freq)\n",
    "    return img\n",
    "def applyPoison(img,s=0.1,L=0.1):\n",
    "    img=simplestColorBalance(img,s)\n",
    "    img=poisonScreening(img,L)\n",
    "    img=simplestColorBalance(img,s)\n",
    "    return img\n",
    "def signaltonoise(a, axis=None, ddof=0):\n",
    "    a = np.asanyarray(a)\n",
    "    m = a.mean(axis)\n",
    "    sd = a.std(axis=axis, ddof=0)\n",
    "    return np.where(sd == 0, 0, m/sd)\n",
    "def smooth(gray_img):   \n",
    "    snr = signaltonoise(gray_img)\n",
    "    if(snr<1):\n",
    "        snr=1\n",
    "    if(snr>5):\n",
    "        snr=5\n",
    "    sigma=(-50/4)*(snr-1)+60\n",
    "    smImage=cv2.bilateralFilter(gray_img,8,int(sigma),int(sigma))\n",
    "    return smImage"
   ]
  },
  {
   "cell_type": "code",
   "execution_count": 137,
   "metadata": {},
   "outputs": [],
   "source": [
    "#copied from https://github.com/manuelaguadomtz/pythreshold/blob/master/pythreshold/local_th/feng.py\n",
    "def feng_threshold(img, w_size1=15, w_size2=30,\n",
    "                   k1=0.15, k2=0.01, alpha1=0.1):\n",
    "    \"\"\" Runs the Feng's thresholding algorithm.\n",
    "    Reference:\n",
    "    Algorithm proposed in: Meng-Ling Feng and Yap-Peng Tan, “Contrast adaptive\n",
    "    thresholding of low quality document images”, IEICE Electron. Express,\n",
    "    Vol. 1, No. 16, pp.501-506, (2004).\n",
    "    Modifications: Using integral images to compute the local mean and the\n",
    "    standard deviation\n",
    "    @param img: The input image. Must be a gray scale image\n",
    "    @type img: ndarray\n",
    "    @param w_size1: The size of the primary local window to compute\n",
    "        each pixel threshold. Should be an odd window\n",
    "    @type w_size1: int\n",
    "    @param w_size2: The size of the secondary local window to compute\n",
    "        the dynamic range standard deviation. Should be an odd window\n",
    "    @type w_size2: int\n",
    "    @param k1: Parameter value that lies in the interval [0.15, 0.25].\n",
    "    @type k1: float\n",
    "    @param k2: Parameter value that lies in the interval [0.01, 0.05].\n",
    "    @type k2: float\n",
    "    @param alpha1: Parameter value that lies in the interval [0.15, 0.25].\n",
    "    @type alpha1: float\n",
    "    @return: The estimated local threshold for each pixel\n",
    "    @rtype: ndarray\n",
    "    \"\"\"\n",
    "    # Obtaining rows and cols\n",
    "    rows, cols = img.shape\n",
    "    i_rows, i_cols = rows + 1, cols + 1\n",
    "\n",
    "    # Computing integral images\n",
    "    # Leaving first row and column in zero for convenience\n",
    "    integ = np.zeros((i_rows, i_cols), np.float)\n",
    "    sqr_integral = np.zeros((i_rows, i_cols), np.float)\n",
    "\n",
    "    integ[1:, 1:] = np.cumsum(np.cumsum(img.astype(np.float), axis=0), axis=1)\n",
    "    sqr_img = np.square(img.astype(np.float))\n",
    "    sqr_integral[1:, 1:] = np.cumsum(np.cumsum(sqr_img, axis=0), axis=1)\n",
    "\n",
    "    # Defining grid\n",
    "    x, y = np.meshgrid(np.arange(1, i_cols), np.arange(1, i_rows))\n",
    "\n",
    "    # Obtaining local coordinates\n",
    "    hw_size = w_size1 // 2\n",
    "    x1 = (x - hw_size).clip(1, cols)\n",
    "    x2 = (x + hw_size).clip(1, cols)\n",
    "    y1 = (y - hw_size).clip(1, rows)\n",
    "    y2 = (y + hw_size).clip(1, rows)\n",
    "\n",
    "    # Obtaining local areas size\n",
    "    l_size = (y2 - y1 + 1) * (x2 - x1 + 1)\n",
    "\n",
    "    # Computing sums\n",
    "    sums = (integ[y2, x2] - integ[y2, x1 - 1] -\n",
    "            integ[y1 - 1, x2] + integ[y1 - 1, x1 - 1])\n",
    "    sqr_sums = (sqr_integral[y2, x2] - sqr_integral[y2, x1 - 1] -\n",
    "                sqr_integral[y1 - 1, x2] + sqr_integral[y1 - 1, x1 - 1])\n",
    "\n",
    "    # Computing local means\n",
    "    means = sums / l_size\n",
    "\n",
    "    # Computing local standard deviation\n",
    "    stds = np.sqrt(sqr_sums / l_size - np.square(means))\n",
    "\n",
    "    # Obtaining windows\n",
    "    padded_img = np.ones((rows + w_size1 - 1, cols + w_size1 - 1)) * np.nan\n",
    "    padded_img[hw_size: -hw_size, hw_size: -hw_size] = img\n",
    "\n",
    "    winds = view_as_windows(padded_img, (w_size1, w_size1))\n",
    "\n",
    "    # Obtaining maximums and minimums\n",
    "    mins = np.nanmin(winds, axis=(2, 3))\n",
    "\n",
    "    # Obtaining local coordinates for std range calculations\n",
    "    hw_size = w_size2 // 2\n",
    "    x1 = (x - hw_size).clip(1, cols)\n",
    "    x2 = (x + hw_size).clip(1, cols)\n",
    "    y1 = (y - hw_size).clip(1, rows)\n",
    "    y2 = (y + hw_size).clip(1, rows)\n",
    "\n",
    "    # Obtaining local areas size\n",
    "    l_size = (y2 - y1 + 2) * (x2 - x1 + 2)\n",
    "\n",
    "    # Computing sums\n",
    "    sums = (integ[y2, x2] - integ[y2, x1 - 1] -\n",
    "            integ[y1 - 1, x2] + integ[y1 - 1, x1 - 1])\n",
    "    sqr_sums = (sqr_integral[y2, x2] - sqr_integral[y2, x1 - 1] -\n",
    "                sqr_integral[y1 - 1, x2] + sqr_integral[y1 - 1, x1 - 1])\n",
    "\n",
    "    # Computing local means2\n",
    "    means2 = sums / l_size\n",
    "\n",
    "    # Computing standard deviation range\n",
    "    std_ranges = np.sqrt(sqr_sums / l_size - np.square(means2))\n",
    "\n",
    "    # Computing normalized standard deviations and extra alpha parameters\n",
    "    n_stds = stds / std_ranges\n",
    "    n_sqr_std = np.square(n_stds)\n",
    "    alpha2 = k1 * n_sqr_std\n",
    "    alpha3 = k2 * n_sqr_std\n",
    "\n",
    "    thresholds = ((1 - alpha1) * means + alpha2 * n_stds\n",
    "                  * (means - mins) + alpha3 * mins)\n",
    "    for x in range(img.shape[0]):\n",
    "        for y in range(img.shape[1]):\n",
    "            if(img[x][y]<thresholds[x][y]):\n",
    "                img[x][y]=0\n",
    "            else:\n",
    "                img[x][y]=1\n",
    "    return img\n"
   ]
  },
  {
   "cell_type": "code",
   "execution_count": 142,
   "metadata": {
    "tags": []
   },
   "outputs": [
    {
     "output_type": "execute_result",
     "data": {
      "text/plain": [
       "True"
      ]
     },
     "metadata": {},
     "execution_count": 142
    }
   ],
   "source": [
    "img_dir='input/9.jpeg'\n",
    "MORPH = 9\n",
    "CANNY = 84\n",
    "HOUGH = 25\n",
    "orig = cv2.imread(img_dir)\n",
    "\n",
    "img = cv2.imread(img_dir, cv2.IMREAD_GRAYSCALE)\n",
    "img_copy = img.copy()\n",
    "cv2.imwrite(\"orig.png\",img)\n",
    "\n",
    "cv2.GaussianBlur(img, (3,3), 0, img)\n",
    "# Remove small details\n",
    "kernel = cv2.getStructuringElement(cv2.MORPH_RECT,(MORPH,MORPH))\n",
    "dilated = cv2.dilate(img, kernel)\n",
    "cv2.imwrite(\"dilated.png\",dilated)\n",
    "\n",
    "edges = cv2.Canny(dilated, 0, CANNY, apertureSize=3)\n",
    "kernel = cv2.getStructuringElement(cv2.MORPH_RECT,(3,3))\n",
    "edges = cv2.dilate(edges, kernel)\n",
    "edges = cv2.Canny(edges, 0, CANNY, apertureSize=3)\n",
    "cv2.imwrite(\"edges.png\",edges)\n",
    "####################Not currently used##############\n",
    "lines = cv2.HoughLines(edges, 1, np.pi/180, 150)\n",
    "for line in lines:\n",
    "    for r,theta in line:\n",
    "        a = np.cos(theta)\n",
    "        b=np.sin(theta)\n",
    "        x0 = a*r\n",
    "        y0 = b*r\n",
    "        x1 = int(x0 + 1000*(-b))\n",
    "        y1 = int(y0 + 1000*(a))\n",
    "        x2 = int(x0 - 1000*(-b))\n",
    "        y2 = int(y0 - 1000*(a))\n",
    "\n",
    "        cv2.line(orig, (x1,y1), (x2,y2), (0,0,255), 1)\n",
    "\n",
    "cv2.imwrite(\"lines.png\",orig)"
   ]
  },
  {
   "cell_type": "code",
   "execution_count": 143,
   "metadata": {},
   "outputs": [
    {
     "output_type": "execute_result",
     "data": {
      "text/plain": [
       "True"
      ]
     },
     "metadata": {},
     "execution_count": 143
    }
   ],
   "source": [
    "# finding contours\n",
    "im,contours,heirarchy = cv2.findContours(edges.copy(), cv2.RETR_EXTERNAL, cv2.CHAIN_APPROX_SIMPLE)\n",
    "maxArea=0\n",
    "for cnt in contours:\n",
    "    x,y,w,h = cv2.boundingRect(cnt)\n",
    "    if(w*h >= maxArea):\n",
    "        peri = cv2.arcLength(cnt, True)\n",
    "        approx = cv2.approxPolyDP(cnt, 0.05 * peri, True)\n",
    "        maxArea=w*h\n",
    "cv2.drawContours(orig,[approx], -1, (0, 255, 0), 1)\n",
    "cv2.imwrite('outline.png',orig)\n"
   ]
  },
  {
   "cell_type": "code",
   "execution_count": 157,
   "metadata": {},
   "outputs": [
    {
     "output_type": "execute_result",
     "data": {
      "text/plain": [
       "True"
      ]
     },
     "metadata": {},
     "execution_count": 157
    }
   ],
   "source": [
    "ratio=1\n",
    "warped = four_point_transform(img_copy, approx.reshape(len(approx), 2) * ratio)\n",
    "cv2.imwrite('result.png',warped)"
   ]
  },
  {
   "cell_type": "code",
   "execution_count": 158,
   "metadata": {},
   "outputs": [
    {
     "output_type": "execute_result",
     "data": {
      "text/plain": [
       "True"
      ]
     },
     "metadata": {},
     "execution_count": 158
    }
   ],
   "source": [
    "Illuminated = applyPoison(warped)\n",
    "cv2.imwrite('Illuminated.png',Illuminated)\n",
    "#fig, ax = try_all_threshold(Illuminated, figsize=(20, 30), verbose=False)"
   ]
  },
  {
   "cell_type": "code",
   "execution_count": 161,
   "metadata": {},
   "outputs": [
    {
     "output_type": "stream",
     "name": "stderr",
     "text": [
      "/home/menna/miniconda3/lib/python3.7/site-packages/ipykernel_launcher.py:33: DeprecationWarning: `np.float` is a deprecated alias for the builtin `float`. To silence this warning, use `float` by itself. Doing this will not modify any behavior and is safe. If you specifically wanted the numpy scalar type, use `np.float64` here.\nDeprecated in NumPy 1.20; for more details and guidance: https://numpy.org/devdocs/release/1.20.0-notes.html#deprecations\n/home/menna/miniconda3/lib/python3.7/site-packages/ipykernel_launcher.py:34: DeprecationWarning: `np.float` is a deprecated alias for the builtin `float`. To silence this warning, use `float` by itself. Doing this will not modify any behavior and is safe. If you specifically wanted the numpy scalar type, use `np.float64` here.\nDeprecated in NumPy 1.20; for more details and guidance: https://numpy.org/devdocs/release/1.20.0-notes.html#deprecations\n/home/menna/miniconda3/lib/python3.7/site-packages/ipykernel_launcher.py:36: DeprecationWarning: `np.float` is a deprecated alias for the builtin `float`. To silence this warning, use `float` by itself. Doing this will not modify any behavior and is safe. If you specifically wanted the numpy scalar type, use `np.float64` here.\nDeprecated in NumPy 1.20; for more details and guidance: https://numpy.org/devdocs/release/1.20.0-notes.html#deprecations\n/home/menna/miniconda3/lib/python3.7/site-packages/ipykernel_launcher.py:37: DeprecationWarning: `np.float` is a deprecated alias for the builtin `float`. To silence this warning, use `float` by itself. Doing this will not modify any behavior and is safe. If you specifically wanted the numpy scalar type, use `np.float64` here.\nDeprecated in NumPy 1.20; for more details and guidance: https://numpy.org/devdocs/release/1.20.0-notes.html#deprecations\n"
     ]
    },
    {
     "output_type": "execute_result",
     "data": {
      "text/plain": [
       "True"
      ]
     },
     "metadata": {},
     "execution_count": 161
    }
   ],
   "source": [
    "Illuminated=Illuminated.astype(np.uint8)\n",
    "#smoothedImage=smooth(Illuminated)\n",
    "BinarizedImage=feng_threshold(Illuminated)\n",
    "cv2.imwrite('feng.png',BinarizedImage*255)"
   ]
  },
  {
   "cell_type": "code",
   "execution_count": null,
   "metadata": {},
   "outputs": [],
   "source": []
  }
 ]
}