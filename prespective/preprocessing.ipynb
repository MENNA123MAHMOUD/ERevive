{
 "metadata": {
  "language_info": {
   "codemirror_mode": {
    "name": "ipython",
    "version": 3
   },
   "file_extension": ".py",
   "mimetype": "text/x-python",
   "name": "python",
   "nbconvert_exporter": "python",
   "pygments_lexer": "ipython3",
   "version": "3.7.11"
  },
  "orig_nbformat": 4,
  "kernelspec": {
   "name": "python3",
   "display_name": "Python 3.7.11 64-bit ('base': conda)"
  },
  "interpreter": {
   "hash": "9ca2a6701a14c49af8de80647c71f1770f3d09bf5589e6aad684858921f594a2"
  }
 },
 "nbformat": 4,
 "nbformat_minor": 2,
 "cells": [
  {
   "cell_type": "code",
   "execution_count": 1,
   "metadata": {},
   "outputs": [],
   "source": [
    "from skimage.filters import threshold_local,threshold_otsu,try_all_threshold,threshold_mean,threshold_yen\n",
    "import numpy as np\n",
    "import cv2\n",
    "import imutils\n",
    "from skimage.util.shape import view_as_windows\n",
    "from skimage.morphology import skeletonize"
   ]
  },
  {
   "cell_type": "code",
   "execution_count": 2,
   "metadata": {},
   "outputs": [],
   "source": [
    "def order_points(pts):\n",
    "    rect = np.zeros((4, 2), dtype = \"float32\")\n",
    "    n=60\n",
    "    s = pts.sum(axis = 1)\n",
    "    rect[0] = pts[np.argmin(s)]+n\n",
    "    rect[2] = pts[np.argmax(s)]-n\n",
    "\n",
    "    diff = np.diff(pts, axis = 1)\n",
    "    rect[1] = pts[np.argmin(diff)]-n\n",
    "    #x,y\n",
    "    rect[1][0]-=n\n",
    "    rect[1][1]+=n\n",
    "    rect[3] = pts[np.argmax(diff)]\n",
    "    #x,y\n",
    "    rect[3][0]+=n\n",
    "    rect[3][1]-=n\n",
    "    return rect\n",
    "\n",
    "def four_point_transform(image, pts):\n",
    "    rect = order_points(pts)\n",
    "    (tl, tr, br, bl) = rect\n",
    " \n",
    " \n",
    "    widthA = np.sqrt(((br[0] - bl[0]) ** 2) + ((br[1] - bl[1]) ** 2))\n",
    "    widthB = np.sqrt(((tr[0] - tl[0]) ** 2) + ((tr[1] - tl[1]) ** 2))\n",
    "    maxWidth = max(int(widthA), int(widthB))\n",
    "    heightA = np.sqrt(((tr[0] - br[0]) ** 2) + ((tr[1] - br[1]) ** 2))\n",
    "    heightB = np.sqrt(((tl[0] - bl[0]) ** 2) + ((tl[1] - bl[1]) ** 2))\n",
    "    maxHeight = max(int(heightA), int(heightB))\n",
    "    dst = np.array([\n",
    "  [0, 0],\n",
    "  [maxWidth - 1, 0],\n",
    "  [maxWidth - 1, maxHeight - 1],\n",
    "  [0, maxHeight - 1]], dtype = \"float32\")\n",
    " \n",
    "    M = cv2.getPerspectiveTransform(rect, dst)\n",
    "    warped = cv2.warpPerspective(image, M, (maxWidth, maxHeight))\n",
    " \n",
    "    return warped"
   ]
  },
  {
   "cell_type": "code",
   "execution_count": 8,
   "metadata": {
    "tags": []
   },
   "outputs": [
    {
     "output_type": "execute_result",
     "data": {
      "text/plain": [
       "True"
      ]
     },
     "metadata": {},
     "execution_count": 8
    }
   ],
   "source": [
    "img_dir='input/10.jpeg'\n",
    "MORPH = 9\n",
    "CANNY = 84\n",
    "HOUGH = 25\n",
    "orig = cv2.imread(img_dir)\n",
    "\n",
    "img = cv2.imread(img_dir, cv2.IMREAD_GRAYSCALE)\n",
    "img_copy = img.copy()\n",
    "cv2.imwrite(\"orig.png\",img)\n",
    "\n",
    "cv2.GaussianBlur(img, (3,3), 0, img)\n",
    "# Remove small details\n",
    "kernel = cv2.getStructuringElement(cv2.MORPH_RECT,(MORPH,MORPH))\n",
    "dilated = cv2.dilate(img, kernel)\n",
    "cv2.imwrite(\"dilated.png\",dilated)\n",
    "\n",
    "edges = cv2.Canny(dilated, 0, CANNY, apertureSize=3)\n",
    "kernel = cv2.getStructuringElement(cv2.MORPH_RECT,(3,3))\n",
    "edges = cv2.dilate(edges, kernel)\n",
    "edges = cv2.Canny(edges, 0, CANNY, apertureSize=3)\n",
    "cv2.imwrite(\"edges.png\",edges)"
   ]
  },
  {
   "cell_type": "code",
   "execution_count": 9,
   "metadata": {},
   "outputs": [
    {
     "output_type": "execute_result",
     "data": {
      "text/plain": [
       "True"
      ]
     },
     "metadata": {},
     "execution_count": 9
    }
   ],
   "source": [
    "# finding contours\n",
    "im,contours,heirarchy = cv2.findContours(edges.copy(), cv2.RETR_EXTERNAL, cv2.CHAIN_APPROX_SIMPLE)\n",
    "maxArea=0\n",
    "for cnt in contours:\n",
    "    x,y,w,h = cv2.boundingRect(cnt)\n",
    "    if(w*h >= maxArea):\n",
    "        peri = cv2.arcLength(cnt, True)\n",
    "        approx = cv2.approxPolyDP(cnt, 0.05 * peri, True)\n",
    "        maxArea=w*h\n",
    "cv2.drawContours(orig,[approx], -1, (0, 255, 0), 1)\n",
    "cv2.imwrite('outline.png',orig)\n"
   ]
  },
  {
   "cell_type": "code",
   "execution_count": 10,
   "metadata": {},
   "outputs": [
    {
     "output_type": "execute_result",
     "data": {
      "text/plain": [
       "True"
      ]
     },
     "metadata": {},
     "execution_count": 10
    }
   ],
   "source": [
    "ratio=1\n",
    "warped = four_point_transform(img_copy, approx.reshape(len(approx), 2) * ratio)\n",
    "cv2.imwrite('result.png',warped)\n"
   ]
  },
  {
   "cell_type": "code",
   "execution_count": 13,
   "metadata": {},
   "outputs": [
    {
     "output_type": "execute_result",
     "data": {
      "text/plain": [
       "True"
      ]
     },
     "metadata": {},
     "execution_count": 13
    }
   ],
   "source": [
    "img_gray = cv2.imread('input/11.png',0)\n",
    "dilated_img = cv2.dilate(img_gray, np.ones((7,7), np.uint8)) \n",
    "bg_img = cv2.medianBlur(dilated_img, 21)\n",
    "diff_img = 255 - cv2.absdiff(img_gray, bg_img)\n",
    "cv2.imwrite(\"shadowOut.png\",diff_img)\n",
    "norm_img = diff_img.copy() # Needed for 3.x compatibility\n",
    "cv2.normalize(diff_img, norm_img, alpha=0, beta=255, norm_type=cv2.NORM_MINMAX, dtype=cv2.CV_8UC1)\n",
    "_, thr_img = cv2.threshold(norm_img, 230, 0, cv2.THRESH_TRUNC)\n",
    "cv2.normalize(thr_img, thr_img, alpha=0, beta=255, norm_type=cv2.NORM_MINMAX, dtype=cv2.CV_8UC1)\n",
    "cv2.imwrite(\"thres.png\",thr_img)\n",
    "thres =threshold_yen(thr_img)\n",
    "final = (thr_img >thres)*255\n",
    "cv2.imwrite(\"final.png\",final)\n",
    "#fig, ax = try_all_threshold(thr_img, figsize=(20, 30), verbose=False)\n"
   ]
  },
  {
   "cell_type": "code",
   "execution_count": 21,
   "metadata": {},
   "outputs": [
    {
     "output_type": "execute_result",
     "data": {
      "text/plain": [
       "True"
      ]
     },
     "metadata": {},
     "execution_count": 21
    }
   ],
   "source": [
    "#try to remove any opening in shapes\n",
    "kernels = [cv2.getStructuringElement(cv2.MORPH_RECT,(1,4))]\n",
    "kernels.append(np.array([\n",
    "       [1,0, 0, 0],\n",
    "       [0,1, 0, 0],\n",
    "       [0,0, 1, 0],\n",
    "       [0,0, 0, 1]], dtype=np.uint8))\n",
    "kernels.append(np.array([\n",
    "       [0, 0,0, 1],\n",
    "       [0, 0, 1,0],\n",
    "       [0, 1, 0,0],\n",
    "       [1, 0, 0,0]], dtype=np.uint8))\n",
    "kernels.append(cv2.getStructuringElement(cv2.MORPH_RECT,(4,1)))   \n",
    "sk=((255-final)/255).astype(np.uint8)\n",
    "sk = skeletonize(sk)\n",
    "cv2.imwrite(\"sk.png\",sk*255)\n",
    "for kernel in kernels:\n",
    "    opening=(255- sk*255).astype(np.uint8)\n",
    "    opening = cv2.morphologyEx(opening, cv2.MORPH_OPEN, kernel,iterations=3)\n",
    "    sk=((255-opening)/255).astype(np.uint8)\n",
    "    sk = skeletonize(sk)\n",
    "cv2.imwrite(\"opened.png\",opening)\n",
    "opening=(1 - opening/255).astype(np.uint8)\n",
    "final_bin=(1 - final/255).astype(np.uint8)\n",
    "cv2.imwrite(\"test1.png\",opening*255)\n",
    "cv2.imwrite(\"test2.png\",final_bin*255)\n",
    "\n",
    "connect = opening | final_bin\n",
    "cv2.imwrite(\"connect.png\",255 - connect*255)\n"
   ]
  },
  {
   "cell_type": "code",
   "execution_count": null,
   "metadata": {},
   "outputs": [],
   "source": []
  }
 ]
}