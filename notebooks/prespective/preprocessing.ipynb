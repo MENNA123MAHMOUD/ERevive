{
 "metadata": {
  "language_info": {
   "codemirror_mode": {
    "name": "ipython",
    "version": 3
   },
   "file_extension": ".py",
   "mimetype": "text/x-python",
   "name": "python",
   "nbconvert_exporter": "python",
   "pygments_lexer": "ipython3",
   "version": "3.7.11"
  },
  "orig_nbformat": 4,
  "kernelspec": {
   "name": "python3",
   "display_name": "Python 3.7.11 64-bit ('base': conda)"
  },
  "interpreter": {
   "hash": "9ca2a6701a14c49af8de80647c71f1770f3d09bf5589e6aad684858921f594a2"
  }
 },
 "nbformat": 4,
 "nbformat_minor": 2,
 "cells": [
  {
   "cell_type": "code",
   "execution_count": 14,
   "metadata": {},
   "outputs": [],
   "source": [
    "from skimage.filters import threshold_local,threshold_otsu,try_all_threshold,threshold_mean,threshold_yen\n",
    "import numpy as np\n",
    "import cv2\n",
    "from skimage.draw import rectangle\n",
    "from skimage.morphology import skeletonize\n",
    "from math import sqrt"
   ]
  },
  {
   "cell_type": "code",
   "execution_count": 3,
   "metadata": {},
   "outputs": [],
   "source": [
    "def OrderPoints(pts):\n",
    "    rect = np.zeros((4, 2), dtype = \"float32\")\n",
    "    n=60\n",
    "    s = pts.sum(axis = 1)\n",
    "    rect[0] = pts[np.argmin(s)]+n\n",
    "    rect[2] = pts[np.argmax(s)]-n\n",
    "\n",
    "    diff = np.diff(pts, axis = 1)\n",
    "    rect[1] = pts[np.argmin(diff)]-n\n",
    "    #x,y\n",
    "    rect[1][0]-=n\n",
    "    rect[1][1]+=n\n",
    "    rect[3] = pts[np.argmax(diff)]\n",
    "    #x,y\n",
    "    rect[3][0]+=n\n",
    "    rect[3][1]-=n\n",
    "    return rect\n",
    "\n",
    "def TransformPrespective(image, pts):\n",
    "    rect = OrderPoints(pts)\n",
    "    (tl, tr, br, bl) = rect\n",
    " \n",
    " \n",
    "    widthA = np.sqrt(((br[0] - bl[0]) ** 2) + ((br[1] - bl[1]) ** 2))\n",
    "    widthB = np.sqrt(((tr[0] - tl[0]) ** 2) + ((tr[1] - tl[1]) ** 2))\n",
    "    maxWidth = max(int(widthA), int(widthB))\n",
    "    heightA = np.sqrt(((tr[0] - br[0]) ** 2) + ((tr[1] - br[1]) ** 2))\n",
    "    heightB = np.sqrt(((tl[0] - bl[0]) ** 2) + ((tl[1] - bl[1]) ** 2))\n",
    "    maxHeight = max(int(heightA), int(heightB))\n",
    "    dst = np.array([\n",
    "  [0, 0],\n",
    "  [maxWidth - 1, 0],\n",
    "  [maxWidth - 1, maxHeight - 1],\n",
    "  [0, maxHeight - 1]], dtype = \"float32\")\n",
    " \n",
    "    M = cv2.getPerspectiveTransform(rect, dst)\n",
    "    warped = cv2.warpPerspective(image, M, (maxWidth, maxHeight))\n",
    " \n",
    "    return warped"
   ]
  },
  {
   "cell_type": "code",
   "execution_count": 4,
   "metadata": {
    "tags": []
   },
   "outputs": [],
   "source": [
    "def GetMaxContour(img_dir,MORPH=9,CANNY=84,debug=False):\n",
    "    \"\"\"\n",
    "    takes image directory ,\n",
    "    structural rect dim(optional),canny max thres(optional)\n",
    "    debug if true outputs images after each process\n",
    "    returns a boolean specifying if the prespective shoud be adjusted,\n",
    "    max contour approximation and grayoriginal image\n",
    "    \"\"\"\n",
    "    img = cv2.imread(img_dir, cv2.IMREAD_GRAYSCALE)\n",
    "    img_copy = img.copy()\n",
    "    hImg, wImg = img_copy.shape\n",
    "    #smooth image\n",
    "    cv2.GaussianBlur(img, (3,3), 0, img)\n",
    "    # Remove small details and writing on paper\n",
    "    kernel = cv2.getStructuringElement(cv2.MORPH_RECT,(MORPH,MORPH))\n",
    "    dilated = cv2.dilate(img, kernel)\n",
    "    edges = cv2.Canny(dilated, 0, CANNY, apertureSize=3)\n",
    "\n",
    "    kernel = cv2.getStructuringElement(cv2.MORPH_RECT,(3,3))\n",
    "    #get edges again so we get inner line surrounding the paper\n",
    "    #avoid paper outer edges being connected to noise in background\n",
    "    edges = cv2.dilate(edges, kernel)\n",
    "    edges = cv2.Canny(edges, 0, CANNY, apertureSize=3)\n",
    "    # finding contours\n",
    "    im,contours,heirarchy = cv2.findContours(edges.copy(), cv2.RETR_EXTERNAL, cv2.CHAIN_APPROX_SIMPLE)\n",
    "    maxArea=0\n",
    "    adjustPrespective = False\n",
    "    approx=[]\n",
    "    # filter for max contour\n",
    "    for cnt in contours:\n",
    "        x,y,w,h = cv2.boundingRect(cnt)\n",
    "        if(w*h >= maxArea):\n",
    "            peri = cv2.arcLength(cnt, True)\n",
    "            approx = cv2.approxPolyDP(cnt, 0.05 * peri, True)\n",
    "            maxArea=w*h\n",
    "            if(maxArea/(hImg*wImg) >= 0.1):\n",
    "                adjustPrespective= True\n",
    "\n",
    "    if(debug):\n",
    "        orig = cv2.imread(img_dir)\n",
    "        cv2.drawContours(orig,[approx], -1, (0, 255, 0), 1)\n",
    "        cv2.imwrite(\"orig.png\",img)\n",
    "        cv2.imwrite(\"dilated.png\",dilated)\n",
    "        cv2.imwrite(\"edges.png\",edges)\n",
    "        cv2.imwrite('outline.png',orig)\n",
    "    return adjustPrespective,approx,img_copy"
   ]
  },
  {
   "cell_type": "code",
   "execution_count": 5,
   "metadata": {},
   "outputs": [],
   "source": [
    "def warpedPrespective(imgToWarp,approxContour,ratio=1,debug=False):\n",
    "    warped = TransformPrespective(imgToWarp, approxContour.reshape(len(approxContour), 2) * ratio)\n",
    "    if(debug):\n",
    "        cv2.imwrite('result.png',warped)\n",
    "    return warped"
   ]
  },
  {
   "cell_type": "code",
   "execution_count": 6,
   "metadata": {},
   "outputs": [],
   "source": [
    "def RemoveShadow(img_gray,debug=False):\n",
    "    #remove noise and writting on paper to leave out onlu the illumination\n",
    "    dilated_img = cv2.dilate(img_gray, np.ones((7,7), np.uint8)) \n",
    "    blurred_img = cv2.medianBlur(dilated_img, 21)\n",
    "    #remove any dark lighning aka shadow\n",
    "    diff_img = 255 - cv2.absdiff(img_gray, blurred_img)\n",
    "    norm_img = diff_img.copy()\n",
    "    #normalization and word sharpening\n",
    "    cv2.normalize(diff_img, norm_img, alpha=0, beta=255, norm_type=cv2.NORM_MINMAX, dtype=cv2.CV_8UC1)\n",
    "    _, thr_img = cv2.threshold(norm_img, 230, 0, cv2.THRESH_TRUNC)\n",
    "    cv2.normalize(thr_img, thr_img, alpha=0, beta=255, norm_type=cv2.NORM_MINMAX, dtype=cv2.CV_8UC1)\n",
    "    if(debug):\n",
    "        cv2.imwrite(\"shadowOut.png\",norm_img)\n",
    "        cv2.imwrite(\"thres.png\",thr_img)\n",
    "    return thr_img\n"
   ]
  },
  {
   "cell_type": "code",
   "execution_count": 7,
   "metadata": {},
   "outputs": [],
   "source": [
    "def Binarize(img_gray,debug=False):\n",
    "    thres =threshold_yen(img_gray)\n",
    "    final = (img_gray >thres)*255\n",
    "    if(debug):\n",
    "        cv2.imwrite(\"final.png\",final)\n",
    "        #fig, ax = try_all_threshold(thr_img, figsize=(20, 30), verbose=False)\n",
    "    return final\n"
   ]
  },
  {
   "cell_type": "code",
   "execution_count": 8,
   "metadata": {},
   "outputs": [],
   "source": [
    "#remove lines function\n",
    "def FloodFromCorners(im_th,debug=False):\n",
    "    hImg, wImg = im_th.shape[:2]\n",
    "    mask = np.zeros((hImg+2, wImg+2), np.uint8)\n",
    "    im_floodfill = 255 - im_th\n",
    "    ##################Flood fill corners#####\n",
    "    cv2.floodFill(im_floodfill, mask, (0,0), 255)\n",
    "    cv2.floodFill(im_floodfill, mask, (wImg-1,0), 255)\n",
    "    cv2.floodFill(im_floodfill, mask, (0,hImg-1), 255)\n",
    "    cv2.floodFill(im_floodfill, mask, (wImg-1,hImg-1), 255)\n",
    "    # Invert floodfilled image\n",
    "    im_floodfill_inv = cv2.bitwise_not(im_floodfill)\n",
    "    if(debug):\n",
    "        cv2.imwrite(\"Inverted_Floodfilled_Image.png\", im_floodfill_inv)\n",
    "        cv2.imwrite(\"Floodfilled_Image.png\", im_floodfill)\n",
    "    return im_floodfill_inv\n",
    "\n",
    "\n",
    "######################cv contours#########\n",
    "def getClosedShapes(im_filled,debug=False):\n",
    "    hImg, wImg = im_filled.shape\n",
    "    im2, contours_cv, hierarchy = cv2.findContours(im_filled, cv2.RETR_TREE, cv2.CHAIN_APPROX_SIMPLE)\n",
    "    hierarchy = hierarchy[0]\n",
    "    #[Next, Previous, First_Child, Parent]\n",
    "    im_empty = np.ones((hImg, wImg,3), np.uint8) * 255\n",
    "    i=0\n",
    "    for cnt in contours_cv:\n",
    "        #contours that has at least two children\n",
    "        x,y,w,h = cv2.boundingRect(cnt)\n",
    "        acceptedArea = h<=150 and w <=300 and h>10 and w>30\n",
    "        child1Idx = hierarchy[i][2]\n",
    "        hasChildren = child1Idx != -1 and  hierarchy[child1Idx][0] != -1\n",
    "        if(hasChildren and acceptedArea):\n",
    "            child2Idx = hierarchy[child1Idx][0]\n",
    "        #this two children are close (letters)\n",
    "        #check area\n",
    "        if(hasChildren and acceptedArea):\n",
    "            #print((w*h)/area)\n",
    "            x1,y1,w1,h1 = cv2.boundingRect(contours_cv[child1Idx])\n",
    "            x2,y2,w2,h2 = cv2.boundingRect(contours_cv[child2Idx])\n",
    "            if(sqrt((x1-x2)**2+((y1-y2)**2)) <= 200):\n",
    "                cv2.drawContours(im_empty, contours_cv, i, (0,0,0), 1)\n",
    "        if(child1Idx != -1 and  hierarchy[child1Idx][0] == -1):\n",
    "            x1,y1,w1,h1 = cv2.boundingRect(contours_cv[child1Idx])\n",
    "            if(w1/w >= 0.3):\n",
    "                cv2.drawContours(im_empty, contours_cv, i, (0,0,0), 1)\n",
    "        if(not hasChildren and acceptedArea and w/h > 1.8 and w/h<=3.5):\n",
    "            print(w/h,w,h)\n",
    "            cv2.drawContours(im_empty, contours_cv, i, (0,0,0), 1)\n",
    "\n",
    "        i+=1\n",
    "    if(debug):\n",
    "        cv2.imwrite(\"contoured.png\", im_empty[:,:,0])\n",
    "    return im_empty[:,:,0]"
   ]
  },
  {
   "cell_type": "code",
   "execution_count": 35,
   "metadata": {},
   "outputs": [
    {
     "output_type": "stream",
     "name": "stdout",
     "text": [
      "3.466666666666667 52 15\n2.35 47 20\n3.2142857142857144 90 28\n2.0555555555555554 37 18\n25 534 71 226\n177 584 8 8\n138 584 4 4\n122 579 15 52\n116 557 3 3\n118 556 3 4\n100 554 6 11\n109 553 3 3\n135 548 3 3\n73 541 29 74\n25 535 70 226\n149 547 24 35\n149 547 24 35\n346 527 62 217\n542 562 3 3\n502 553 3 3\n503 550 5 6\n507 549 3 3\n526 548 9 9\n468 534 30 84\n346 527 62 216\n412 540 26 54\n417 553 3 3\n412 540 26 54\n1207 506 5 8\n1211 506 3 4\n187 402 78 226\n410 474 3 3\n187 402 78 226\n306 432 20 47\n306 432 20 47\n212 422 28 90\n281 442 3 3\n242 439 3 3\n250 435 3 3\n243 435 6 9\n212 422 28 90\n482 302 62 149\n495 317 36 46\n523 341 7 7\n523 342 6 6\n507 316 3 3\n482 302 62 149\n1059 287 61 284\n1157 300 27 38\n1233 288 3 4\n1059 287 61 284\n1119 311 18 37\n1119 311 18 37\n1200 306 32 34\n1200 306 32 34\n1278 303 18 19\n1278 303 18 19\n150 157 62 173\n150 157 62 173\n194 176 17 19\n194 176 17 19\n215 174 23 84\n219 186 3 3\n215 174 23 84\n977 153 93 186\n977 153 93 186\n1027 176 23 83\n1069 183 5 4\n1027 176 23 83\n353 35 51 189\n354 35 51 188\n418 56 17 93\n497 65 3 3\n418 56 17 93\n75 34 76 226\n258 94 3 5\n75 34 76 225\n255 62 15 17\n255 62 15 17\n100 58 29 97\n100 58 29 97\n1198 24 71 197\n1359 65 3 3\n1280 64 3 3\n1274 63 3 3\n1275 62 3 3\n1285 60 3 4\n1287 59 3 3\n1270 56 6 4\n1259 54 10 9\n1264 52 3 3\n1198 24 71 197\n"
     ]
    },
    {
     "output_type": "execute_result",
     "data": {
      "text/plain": [
       "True"
      ]
     },
     "metadata": {},
     "execution_count": 35
    }
   ],
   "source": [
    "#integerated preprocessing\n",
    "img_dir =\"input/11.png\"\n",
    "adjustPrespective,approxContour,grayImg = GetMaxContour(img_dir)\n",
    "warpedImg = grayImg\n",
    "if(adjustPrespective):\n",
    "    warpedImg = warpedPrespective(grayImg,approxContour)\n",
    "shadowFreeImg = RemoveShadow(warpedImg,True)\n",
    "binarizedImg = Binarize(shadowFreeImg,True)\n",
    "filledImg = FloodFromCorners(binarizedImg.astype(np.uint8).copy(),True)\n",
    "contourdImg = getClosedShapes(filledImg,True)\n",
    "im2, contours, hierarchy = cv2.findContours(255 - contourdImg.astype(np.uint8).copy(), cv2.RETR_TREE, cv2.CHAIN_APPROX_SIMPLE)\n",
    "image_result = binarizedImg.astype(np.uint8).copy()\n",
    "for cnt in contours:\n",
    "    x,y,w,h = cv2.boundingRect(cnt)\n",
    "    rr, cc = rectangle(start = (y,x), end = (y+h,x+w), shape=contourdImg.shape)\n",
    "    print(x,y,h,w)\n",
    "    if(x==0 and y==0 ):\n",
    "        continue\n",
    "    n=10\n",
    "    x = max(0,x-n)\n",
    "    y = max(0,y-n)\n",
    "    y2 = min(y+h+n,image_result.shape[0])\n",
    "    x2 = min(x+w+n,image_result.shape[1])\n",
    "    image_result[y:y2,x:x2] = 255\n",
    "    \n",
    "cv2.imwrite(\"image_result.png\",image_result)"
   ]
  },
  {
   "cell_type": "code",
   "execution_count": 92,
   "metadata": {},
   "outputs": [
    {
     "output_type": "error",
     "ename": "NameError",
     "evalue": "name 'final' is not defined",
     "traceback": [
      "\u001b[0;31m---------------------------------------------------------------------------\u001b[0m",
      "\u001b[0;31mNameError\u001b[0m                                 Traceback (most recent call last)",
      "\u001b[0;32m/tmp/ipykernel_534943/628881929.py\u001b[0m in \u001b[0;36m<module>\u001b[0;34m\u001b[0m\n\u001b[1;32m     12\u001b[0m        [1, 0, 0,0]], dtype=np.uint8))\n\u001b[1;32m     13\u001b[0m \u001b[0mkernels\u001b[0m\u001b[0;34m.\u001b[0m\u001b[0mappend\u001b[0m\u001b[0;34m(\u001b[0m\u001b[0mcv2\u001b[0m\u001b[0;34m.\u001b[0m\u001b[0mgetStructuringElement\u001b[0m\u001b[0;34m(\u001b[0m\u001b[0mcv2\u001b[0m\u001b[0;34m.\u001b[0m\u001b[0mMORPH_RECT\u001b[0m\u001b[0;34m,\u001b[0m\u001b[0;34m(\u001b[0m\u001b[0;36m4\u001b[0m\u001b[0;34m,\u001b[0m\u001b[0;36m1\u001b[0m\u001b[0;34m)\u001b[0m\u001b[0;34m)\u001b[0m\u001b[0;34m)\u001b[0m\u001b[0;34m\u001b[0m\u001b[0;34m\u001b[0m\u001b[0m\n\u001b[0;32m---> 14\u001b[0;31m \u001b[0msk\u001b[0m\u001b[0;34m=\u001b[0m\u001b[0;34m(\u001b[0m\u001b[0;34m(\u001b[0m\u001b[0;36m255\u001b[0m\u001b[0;34m-\u001b[0m\u001b[0mfinal\u001b[0m\u001b[0;34m)\u001b[0m\u001b[0;34m/\u001b[0m\u001b[0;36m255\u001b[0m\u001b[0;34m)\u001b[0m\u001b[0;34m.\u001b[0m\u001b[0mastype\u001b[0m\u001b[0;34m(\u001b[0m\u001b[0mnp\u001b[0m\u001b[0;34m.\u001b[0m\u001b[0muint8\u001b[0m\u001b[0;34m)\u001b[0m\u001b[0;34m\u001b[0m\u001b[0;34m\u001b[0m\u001b[0m\n\u001b[0m\u001b[1;32m     15\u001b[0m \u001b[0msk\u001b[0m \u001b[0;34m=\u001b[0m \u001b[0mskeletonize\u001b[0m\u001b[0;34m(\u001b[0m\u001b[0msk\u001b[0m\u001b[0;34m)\u001b[0m\u001b[0;34m\u001b[0m\u001b[0;34m\u001b[0m\u001b[0m\n\u001b[1;32m     16\u001b[0m \u001b[0mcv2\u001b[0m\u001b[0;34m.\u001b[0m\u001b[0mimwrite\u001b[0m\u001b[0;34m(\u001b[0m\u001b[0;34m\"sk.png\"\u001b[0m\u001b[0;34m,\u001b[0m\u001b[0msk\u001b[0m\u001b[0;34m*\u001b[0m\u001b[0;36m255\u001b[0m\u001b[0;34m)\u001b[0m\u001b[0;34m\u001b[0m\u001b[0;34m\u001b[0m\u001b[0m\n",
      "\u001b[0;31mNameError\u001b[0m: name 'final' is not defined"
     ]
    }
   ],
   "source": [
    "#try to remove any opening in shapes\n",
    "kernels = [cv2.getStructuringElement(cv2.MORPH_RECT,(1,4))]\n",
    "kernels.append(np.array([\n",
    "       [1,0, 0, 0],\n",
    "       [0,1, 0, 0],\n",
    "       [0,0, 1, 0],\n",
    "       [0,0, 0, 1]], dtype=np.uint8))\n",
    "kernels.append(np.array([\n",
    "       [0, 0,0, 1],\n",
    "       [0, 0, 1,0],\n",
    "       [0, 1, 0,0],\n",
    "       [1, 0, 0,0]], dtype=np.uint8))\n",
    "kernels.append(cv2.getStructuringElement(cv2.MORPH_RECT,(4,1)))   \n",
    "sk=((255-final)/255).astype(np.uint8)\n",
    "sk = skeletonize(sk)\n",
    "cv2.imwrite(\"sk.png\",sk*255)\n",
    "for kernel in kernels:\n",
    "    opening=(255- sk*255).astype(np.uint8)\n",
    "    opening = cv2.morphologyEx(opening, cv2.MORPH_OPEN, kernel,iterations=3)\n",
    "    sk=((255-opening)/255).astype(np.uint8)\n",
    "    sk = skeletonize(sk)\n",
    "cv2.imwrite(\"opened.png\",opening)\n",
    "opening=(1 - opening/255).astype(np.uint8)\n",
    "final_bin=(1 - final/255).astype(np.uint8)\n",
    "cv2.imwrite(\"test1.png\",opening*255)\n",
    "cv2.imwrite(\"test2.png\",final_bin*255)\n",
    "\n",
    "connect = opening & final_bin\n",
    "cv2.imwrite(\"connect.png\",255 - connect*255)\n"
   ]
  },
  {
   "cell_type": "code",
   "execution_count": 24,
   "metadata": {},
   "outputs": [
    {
     "output_type": "stream",
     "name": "stdout",
     "text": [
      "{255: 183940, 247: 76, 231: 59, 217: 64, 203: 53, 189: 64, 181: 33, 175: 56, 171: 49, 167: 72, 161: 57, 237: 66, 173: 79, 147: 52, 122: 14, 98: 71, 82: 28, 72: 34, 86: 44, 100: 74, 114: 53, 135: 53, 137: 53, 143: 22, 151: 62, 157: 67, 70: 61, 245: 78, 199: 51, 116: 68, 80: 24, 153: 47, 195: 23, 219: 29, 163: 32, 74: 44, 120: 34, 201: 51, 183: 44, 124: 45, 66: 59, 118: 27, 177: 51, 68: 49, 126: 426, 185: 37, 249: 73, 129: 487, 193: 44, 251: 65, 233: 64, 145: 41, 239: 42, 155: 33, 235: 52, 253: 90, 110: 46, 149: 59, 64: 57, 229: 38, 102: 32, 159: 44, 104: 51, 88: 33, 215: 40, 133: 38, 106: 35, 197: 17, 94: 41, 223: 19, 221: 49, 96: 34, 211: 52, 207: 31, 165: 42, 213: 34, 112: 48, 205: 70, 225: 29, 78: 39, 18: 61, 22: 60, 0: 1917, 209: 32, 131: 49, 14: 26, 243: 62, 92: 41, 60: 9, 46: 39, 24: 45, 139: 33, 141: 25, 187: 39, 54: 14, 8: 29, 6: 20, 169: 54, 227: 15, 50: 13, 12: 13, 90: 17, 62: 5, 20: 64, 241: 52, 2: 45, 52: 10, 40: 21, 16: 35, 42: 22, 28: 28, 179: 27, 38: 7, 191: 10, 44: 10, 10: 23, 36: 14, 76: 39, 108: 18, 84: 54, 34: 11, 26: 5, 56: 6, 58: 9, 32: 23, 48: 5, 30: 15, 4: 4}\n"
     ]
    }
   ],
   "source": [
    "dictImg = dict()\n",
    "for i in range(len(warpedImg)):\n",
    "    for j in range(len(warpedImg[0])):\n",
    "        if warpedImg[i][j] not in dictImg:\n",
    "            dictImg[warpedImg[i][j]] =0\n",
    "        dictImg[warpedImg[i][j]]+=1\n",
    "print(dictImg)"
   ]
  },
  {
   "cell_type": "code",
   "execution_count": null,
   "metadata": {},
   "outputs": [],
   "source": []
  }
 ]
}