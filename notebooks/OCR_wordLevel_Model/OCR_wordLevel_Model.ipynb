{
 "cells": [
  {
   "cell_type": "code",
   "execution_count": 17,
   "metadata": {},
   "outputs": [],
   "source": [
    "import os\n",
    "import cv2\n",
    "import random\n",
    "import numpy as np\n",
    "\n",
    "images = []\n",
    "\n",
    "with open(\"./words.txt\",\"r\",encoding=\"utf-8\") as file:\n",
    "    for line in file:\n",
    "        if line[0] != \"#\":\n",
    "            data = {}\n",
    "            data['attributes'] = line.split(\" \")\n",
    "            data['imagePath'] = data.get(\"attributes\")[0].split(\"-\")\n",
    "            data['checkWord'] = data.get(\"attributes\")[1]\n",
    "            data['thresh'] = int(data.get(\"attributes\")[2])\n",
    "            data['x'] = int(data.get(\"attributes\")[3])\n",
    "            data['y'] = int(data.get(\"attributes\")[4])\n",
    "            data['w'] = int(data.get(\"attributes\")[5])\n",
    "            data['h'] = int(data.get(\"attributes\")[6])\n",
    "            data['word'] = data.get(\"attributes\")[8]\n",
    "\n",
    "            outerFolder = data.get(\"imagePath\")[0]\n",
    "            innerFolder = data.get(\"imagePath\")[0] + \"-\" + data.get(\"imagePath\")[1]\n",
    "            file = data.get(\"attributes\")[0]\n",
    "            pathofImage = \"./\" + outerFolder + \"/\" + innerFolder + \"/\" + file + \".png\"\n",
    "            data['imagePath'] = pathofImage\n",
    "            bad_samples = ['a01-117-05-02', 'r06-022-03-05']\n",
    "\n",
    "            if data.get(\"checkWord\") == \"err\" or data.get(\"attributes\")[0] in bad_samples:\n",
    "                continue\n",
    "\n",
    "            if data.get(\"w\") < 20 or data.get(\"h\") < 20:\n",
    "                continue\n",
    "\n",
    "\n",
    "            images.append(data)\n",
    "\n"
   ]
  },
  {
   "cell_type": "code",
   "execution_count": 28,
   "metadata": {},
   "outputs": [],
   "source": [
    "\n",
    "for ob in images:\n",
    "    image = cv2.imread(ob.get(\"imagePath\"))\n",
    "    \n",
    "    if ob.get(\"w\") > 128 and ob.get(\"h\") > 32:\n",
    "        resizedImage = cv2.resize(image, (128, 32), interpolation=cv2.INTER_AREA)\n",
    "        \n",
    "    elif ob.get(\"w\") < 128 and ob.get(\"h\") < 32:\n",
    "        if 128 - ob.get(\"w\") < 32 - ob.get(\"h\"):\n",
    "            resizedImage = cv2.resize(image, (128,image.shape[0]), interpolation=cv2.INTER_AREA)\n",
    "        elif 128 - ob.get(\"w\") > 32 - ob.get(\"h\"):\n",
    "            resizedImage = cv2.resize(image, (image.shape[1],32), interpolation=cv2.INTER_AREA)\n",
    "            \n",
    "    elif ob.get(\"w\") < 128 and ob.get(\"h\") > 32:\n",
    "            resizedImage = cv2.resize(image, (image.shape[1],32), interpolation=cv2.INTER_AREA)\n",
    "        \n",
    "    elif ob.get(\"w\") > 128 and ob.get(\"h\") < 32:\n",
    "            resizedImage = cv2.resize(image, (128, image.shape[0]), interpolation=cv2.INTER_AREA)\n",
    "            \n",
    "    \n",
    "    \n",
    "    greyImage = cv2.cvtColor(resizedImage,cv2.COLOR_BGR2GRAY)\n",
    "    \n",
    "    \n",
    "    threshold , binarizedImage = cv2.threshold(greyImage , ob.get(\"thresh\") , 255 , cv2.THRESH_BINARY)\n",
    "    \n",
    "    \n",
    "    emptyImage = np.ones((32,128),np.uint8)*255\n",
    "    \n",
    "    if binarizedImage.shape[0] == 32:\n",
    "        start = random.randint(0,128-binarizedImage.shape[1])\n",
    "        end = start + binarizedImage.shape[1]\n",
    "        emptyImage[:,start:end] = binarizedImage\n",
    "        \n",
    "    if binarizedImage.shape[1] == 128:    \n",
    "        start = random.randint(0,32-binarizedImage.shape[0])\n",
    "        end = start + binarizedImage.shape[0]\n",
    "        emptyImage[start:end,:] = binarizedImage\n",
    "    \n",
    "    ob[\"image\"] = emptyImage\n",
    "    \n"
   ]
  },
  {
   "cell_type": "code",
   "execution_count": 29,
   "metadata": {},
   "outputs": [],
   "source": [
    "for i in range(10):\n",
    "    cv2.imwrite('test' + str(i) +'.png',images[i].get(\"image\"))"
   ]
  },
  {
   "cell_type": "code",
   "execution_count": null,
   "metadata": {},
   "outputs": [],
   "source": []
  }
 ],
 "metadata": {
  "kernelspec": {
   "display_name": "Python 3",
   "language": "python",
   "name": "python3"
  },
  "language_info": {
   "codemirror_mode": {
    "name": "ipython",
    "version": 3
   },
   "file_extension": ".py",
   "mimetype": "text/x-python",
   "name": "python",
   "nbconvert_exporter": "python",
   "pygments_lexer": "ipython3",
   "version": "3.8.5"
  }
 },
 "nbformat": 4,
 "nbformat_minor": 4
}
