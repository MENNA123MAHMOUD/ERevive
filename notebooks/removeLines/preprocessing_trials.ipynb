{
 "metadata": {
  "language_info": {
   "codemirror_mode": {
    "name": "ipython",
    "version": 3
   },
   "file_extension": ".py",
   "mimetype": "text/x-python",
   "name": "python",
   "nbconvert_exporter": "python",
   "pygments_lexer": "ipython3",
   "version": "3.7.11"
  },
  "orig_nbformat": 4,
  "kernelspec": {
   "name": "python3",
   "display_name": "Python 3.7.11 64-bit ('base': conda)"
  },
  "interpreter": {
   "hash": "9ca2a6701a14c49af8de80647c71f1770f3d09bf5589e6aad684858921f594a2"
  }
 },
 "nbformat": 4,
 "nbformat_minor": 2,
 "cells": [
  {
   "cell_type": "code",
   "execution_count": 98,
   "metadata": {},
   "outputs": [],
   "source": [
    "import cv2\n",
    "from skimage.filters import threshold_otsu\n",
    "import numpy as np\n",
    "from skimage.morphology import (erosion, dilation, opening, closing,  # noqa\n",
    "                                white_tophat)\n",
    "from skimage.measure import find_contours\n"
   ]
  },
  {
   "cell_type": "code",
   "execution_count": 189,
   "metadata": {},
   "outputs": [
    {
     "output_type": "execute_result",
     "data": {
      "text/plain": [
       "True"
      ]
     },
     "metadata": {},
     "execution_count": 189
    }
   ],
   "source": [
    "img= cv2.imread(\"er2.png\") \n",
    "gray_img=cv2.cvtColor(img,cv2.COLOR_BGR2GRAY) \n",
    "t =threshold_otsu(gray_img)\n",
    "binarized_img=np.where(gray_img>t,255,0)\n",
    "#detct corners\n",
    "#detect some corners inside of words\n",
    "#does not detect lines connected to attributes and some times relations\n",
    "#(img,max number of corners,quality of corner,min distance between corners)\n",
    "corners = cv2.goodFeaturesToTrack(gray_img, 50, 0.0001, 20)\n",
    "corners = np.int0(corners)\n",
    "for i in corners:\n",
    "    x, y = i.ravel()\n",
    "    cv2.circle(img, (x, y), 3, 255, -1)\n",
    "cv2.imwrite('corners.png', img)"
   ]
  },
  {
   "cell_type": "code",
   "execution_count": 192,
   "metadata": {},
   "outputs": [],
   "source": [
    "img= cv2.imread(\"er2.png\") \n",
    "im = cv2.imread(\"er2.png\", cv2.IMREAD_GRAYSCALE)\n",
    "th, im_th = cv2.threshold(im_in, 220, 255, cv2.THRESH_BINARY_INV)\n",
    "corners = cv2.goodFeaturesToTrack(im, 50, 0.0001, 30)\n",
    "corners = np.int0(corners)\n",
    "# Floodfill from corners\n",
    "# cv2.circle(img, (x1, y1), 3, (255, 0, 0) , -1)\n",
    "# cv2.floodFill(im_th, mask, (x1,y1), 255)\n",
    "# cv2.imwrite('first_corner.png', img)\n",
    "# for i in corners:\n",
    "#     x, y = i.ravel()\n",
    "#     cv2.floodFill(im_th, mask, (x,y), 255)\n"
   ]
  },
  {
   "cell_type": "code",
   "execution_count": 193,
   "metadata": {},
   "outputs": [
    {
     "output_type": "execute_result",
     "data": {
      "text/plain": [
       "True"
      ]
     },
     "metadata": {},
     "execution_count": 193
    }
   ],
   "source": [
    "#harris corner detection\n",
    "gray_float = np.float32(gray_img)\n",
    "dst = cv2.cornerHarris(gray_float,4,3,0.05)\n",
    "\n",
    "#result is dilated for marking the corners, not important\n",
    "#dst = cv2.dilate(dst,None)\n",
    "\n",
    "# Threshold for an optimal value, it may vary depending on the image.\n",
    "img[dst>0.02*dst.max()]=[0,0,255]\n",
    "cv2.imwrite('harris.png', img)"
   ]
  },
  {
   "cell_type": "code",
   "execution_count": 214,
   "metadata": {},
   "outputs": [
    {
     "output_type": "execute_result",
     "data": {
      "text/plain": [
       "True"
      ]
     },
     "metadata": {},
     "execution_count": 214
    }
   ],
   "source": [
    "im_in = cv2.imread(\"er2.png\", cv2.IMREAD_GRAYSCALE)\n",
    "th, im_th = cv2.threshold(im_in, 220, 255, cv2.THRESH_BINARY_INV)\n",
    "\n",
    "im_floodfill = im_th.copy()\n",
    "# Mask used to flood filling.\n",
    "# Notice the size needs to be 2 pixels than the image.\n",
    "h, w = im_th.shape[:2]\n",
    "mask = np.zeros((h+2, w+2), np.uint8)\n",
    "# Floodfill from point (0, 0)\n",
    "cv2.floodFill(im_floodfill, mask, (0,0), 255)\n",
    "cv2.floodFill(im_floodfill, mask, (w-1,0), 255)\n",
    "cv2.floodFill(im_floodfill, mask, (0,h-1), 255)\n",
    "cv2.floodFill(im_floodfill, mask, (w-1,h-1), 255)\n",
    "\n",
    "# Invert floodfilled image\n",
    "im_floodfill_inv = cv2.bitwise_not(im_floodfill)\n",
    "# Combine the two images to get the foreground.\n",
    "im_out = im_th | im_floodfill_inv\n",
    "# Display images.\n",
    "cv2.imwrite(\"Thresholded_Image.png\", im_th)\n",
    "cv2.imwrite(\"Floodfilled_Image.png\", im_floodfill)\n",
    "cv2.imwrite(\"Inverted_Floodfilled_Image.png\", im_floodfill_inv)\n",
    "cv2.imwrite(\"Foreground.png\", im_out)\n",
    "#start flooding from corners?"
   ]
  },
  {
   "cell_type": "code",
   "execution_count": 196,
   "metadata": {},
   "outputs": [
    {
     "output_type": "execute_result",
     "data": {
      "text/plain": [
       "True"
      ]
     },
     "metadata": {},
     "execution_count": 196
    }
   ],
   "source": [
    "#mophological close\n",
    "structureElm =  np.array((\n",
    "\t[1,1,1,1],\n",
    "\t[1,1,1,1],\n",
    "    [1,1,1,1]), dtype=\"int\")\n",
    "closed = closing(im_th, structureElm)\n",
    "\n",
    "for i in range(50):\n",
    "    closed = closing(closed, structureElm)\n",
    "cv2.imwrite(\"closed.png\", closed)\n",
    "\n",
    "#mophological opening\n",
    "structureElm =  np.array((\n",
    "\t[1,1,1],\n",
    "\t[1,1,1],\n",
    "    [1,1,1]), dtype=\"int\")\n",
    "opened = dilation(im_th, structureElm)\n",
    "for i in range(10):\n",
    "    opened = opening(opened, structureElm)\n",
    "cv2.imwrite(\"opened.png\", opened)\n",
    "\n"
   ]
  },
  {
   "cell_type": "code",
   "execution_count": 197,
   "metadata": {},
   "outputs": [
    {
     "output_type": "execute_result",
     "data": {
      "text/plain": [
       "True"
      ]
     },
     "metadata": {},
     "execution_count": 197
    }
   ],
   "source": [
    "im = cv2.imread(\"er2.png\", cv2.IMREAD_GRAYSCALE)\n",
    "kernel1 = np.array((\n",
    "    [0,0,0],\n",
    "\t[-1,1,-1],\n",
    "    [0,0,0]), dtype=\"int\")\n",
    "kernel2 = np.array((\n",
    "\t[0,-1,0],\n",
    "    [0,1,0],\n",
    "    [0,-1,0]), dtype=\"int\")\n",
    "kernel3 = np.array((\n",
    "\t[-1,0,0],\n",
    "    [0,1,0],\n",
    "    [0,0,-1]), dtype=\"int\")\n",
    "kernel4 = np.array((\n",
    "\t[0,0,-1],\n",
    "    [0,1,0],\n",
    "    [-1,0,0]), dtype=\"int\")\n",
    "kernel5 = np.array((\n",
    "\t[0,-1,0],\n",
    "    [-1,4,-1],\n",
    "    [0,-1,0]), dtype=\"int\")\n",
    "#only bar edges after floodfilling the image\n",
    "image_with_edges = cv2.filter2D(im_floodfill, -1, kernel1)\n",
    "image_with_edges += cv2.filter2D(im_floodfill, -1, kernel2)\n",
    "image_with_edges += cv2.filter2D(im_floodfill, -1, kernel3)\n",
    "image_with_edges += cv2.filter2D(im_floodfill, -1,kernel4)\n",
    "#by subtraction we get all step edges\n",
    "edges = cv2.filter2D(im_floodfill, -1, kernel5)\n",
    "\n",
    "edges_ored = cv2.bitwise_not(image_with_edges & im_floodfill)\n",
    "cv2.imwrite(\"edges.png\", image_with_edges)\n",
    "cv2.imwrite(\"edges2.png\", edges)\n",
    "cv2.imwrite(\"edges_ored.png\", edges_ored)\n",
    "\n",
    "\n"
   ]
  },
  {
   "cell_type": "code",
   "execution_count": 184,
   "metadata": {},
   "outputs": [],
   "source": [
    "img= cv2.imread(\"er2.png\") \n",
    "im = cv2.imread(\"er2.png\", cv2.IMREAD_GRAYSCALE)\n",
    "th, im_th = cv2.threshold(im_in, 220, 255, cv2.THRESH_BINARY_INV)\n",
    "corners = cv2.goodFeaturesToTrack(im, 50, 0.0001, 30)\n",
    "corners = np.int0(corners)\n",
    "\n",
    "# h, w = im_th.shape[:2]\n",
    "# mask = np.zeros((h+2, w+2), np.uint8)\n",
    "# # Floodfill from corners\n",
    "# x1,y1 = corners[1].ravel()\n",
    "# cv2.circle(img, (x1, y1), 3, (255, 0, 0) , -1)\n",
    "# cv2.imwrite('first_corner.png', img)\n",
    "\n",
    "# cv2.floodFill(im_th,seedPoint= (x1,y1),newVal=(0,255,0),mask=mask)\n",
    "for i in corners:\n",
    "    x, y = i.ravel()\n",
    "    cv2.circle(img, (x, y), 2, (255, 0, 0) , -1)\n",
    "#     cv2.floodFill(im_th, mask, (x,y), 255)\n",
    "# cv2.imwrite('flooded_corners.png', im_th)\n",
    "cv2.imwrite('corners.png', img)\n",
    "closed = 1-closed\n",
    "\n",
    "i=0\n",
    "area = closed.shape[0]*closed.shape[1]\n",
    "contours = find_contours(opened,0.1)\n",
    "for contour in contours:\n",
    "    x = contour[:,1]\n",
    "    y = contour[:,0]\n",
    "    [Xmin, Xmax, Ymin, Ymax] = [np.amin(x), np.amax(x), np.amin(y), np.amax(y)]\n",
    "    c = im[int(Ymin):int(Ymax),int(Xmin):int(Xmax)]\n",
    "    cv2.imwrite(\"contours/\"+str(i)+\".png\",c)\n",
    "    i+=1\n"
   ]
  },
  {
   "cell_type": "code",
   "execution_count": null,
   "metadata": {},
   "outputs": [],
   "source": [
    "\n",
    "# Display the image and plot all contours found\n",
    "##################Plot contours################\n",
    "plt.imshow(im_floodfill, interpolation='nearest')\n",
    "\n",
    "for n, contour in enumerate(contours):\n",
    "    plt.plot(contour[:, 1], contour[:, 0], linewidth=2)\n",
    "\n",
    "plt.axis('image')\n",
    "plt.xticks([])\n",
    "plt.yticks([])\n",
    "plt.show()"
   ]
  },
  {
   "cell_type": "code",
   "execution_count": null,
   "metadata": {},
   "outputs": [],
   "source": [
    "def floodFillUtil(imgFlood, xImg, yImg):\n",
    "    #h,w\n",
    "    N,M = imgFlood.shape[:2]\n",
    "    if (xImg < 0 or xImg >= M or yImg < 0 or yImg >= N):\n",
    "        return\n",
    "    if (imgFlood[yImg][xImg] == 0):\n",
    "        return\n",
    "    # Replace the color at (x, y)\n",
    "    imgFlood[yImg][xImg] = 255\n",
    "    # Recur for north, east, south and west\n",
    "    floodFillUtil(imgFlood, xImg+1, yImg )\n",
    "    floodFillUtil(imgFlood, xImg-1, yImg )\n",
    "    floodFillUtil(imgFlood, xImg  , yImg+1 )\n",
    "    floodFillUtil(imgFlood, xImg  , yImg-1 )\n",
    " \n",
    "def floodFillCustom(imgFlood, xImg, yImg):\n",
    "    prevC = imgFlood[yImg][xImg]\n",
    "    if(prevC==0):\n",
    "        return\n",
    "    floodFillUtil(imgFlood, xImg, yImg)"
   ]
  }
 ]
}