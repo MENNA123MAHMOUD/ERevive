{
 "metadata": {
  "language_info": {
   "codemirror_mode": {
    "name": "ipython",
    "version": 3
   },
   "file_extension": ".py",
   "mimetype": "text/x-python",
   "name": "python",
   "nbconvert_exporter": "python",
   "pygments_lexer": "ipython3",
   "version": "3.7.11"
  },
  "orig_nbformat": 4,
  "kernelspec": {
   "name": "python3",
   "display_name": "Python 3.7.11 64-bit ('base': conda)"
  },
  "interpreter": {
   "hash": "9ca2a6701a14c49af8de80647c71f1770f3d09bf5589e6aad684858921f594a2"
  }
 },
 "nbformat": 4,
 "nbformat_minor": 2,
 "cells": [
  {
   "cell_type": "code",
   "execution_count": 2,
   "metadata": {},
   "outputs": [],
   "source": [
    "import cv2\n",
    "from skimage.filters import threshold_otsu\n",
    "import numpy as np\n",
    "from skimage.morphology import (erosion, dilation, opening, closing,  # noqa\n",
    "                               white_tophat)\n",
    "from skimage.measure import find_contours\n",
    "import matplotlib.pyplot as plt\n",
    "from skimage.draw import rectangle\n",
    "from math import sqrt\n",
    "%matplotlib inline "
   ]
  },
  {
   "cell_type": "code",
   "execution_count": 29,
   "metadata": {},
   "outputs": [
    {
     "output_type": "execute_result",
     "data": {
      "text/plain": [
       "True"
      ]
     },
     "metadata": {},
     "execution_count": 29
    }
   ],
   "source": [
    "im_in = cv2.imread(\"connect.png\", cv2.IMREAD_GRAYSCALE)\n",
    "th, im_th = cv2.threshold(im_in, 220, 255, cv2.THRESH_BINARY_INV)\n",
    "###################Remove words###############\n",
    "structureElm =  np.array((\n",
    "\t[1,1],\n",
    "\t[1,1]), dtype=\"int\")\n",
    "#closed = closing(im_th, structureElm)\n",
    "#for i in range(5):\n",
    "#im_th = closing(im_th, structureElm)\n",
    "cv2.imwrite(\"closed.png\", im_th)\n",
    "\n",
    "#im2, contours_closed, hierarchy = cv2.findContours(closed, cv2.RETR_TREE, cv2.CHAIN_APPROX_SIMPLE)"
   ]
  },
  {
   "cell_type": "code",
   "execution_count": 30,
   "metadata": {},
   "outputs": [
    {
     "output_type": "stream",
     "name": "stdout",
     "text": [
      "corners Filled\n"
     ]
    }
   ],
   "source": [
    "# Mask used to flood filling.\n",
    "# Notice the size needs to be 2 pixels than the image.\n",
    "hImg, wImg = im_th.shape[:2]\n",
    "area = hImg*wImg\n",
    "mask = np.zeros((hImg+2, wImg+2), np.uint8)\n",
    "\n",
    "im_floodfill = im_th.copy()\n",
    "##################Flood fill corners#####\n",
    "cv2.floodFill(im_floodfill, mask, (0,0), 255)\n",
    "cv2.floodFill(im_floodfill, mask, (wImg-1,0), 255)\n",
    "cv2.floodFill(im_floodfill, mask, (0,hImg-1), 255)\n",
    "cv2.floodFill(im_floodfill, mask, (wImg-1,hImg-1), 255)\n",
    "\n",
    "print(\"corners Filled\")"
   ]
  },
  {
   "cell_type": "code",
   "execution_count": 35,
   "metadata": {
    "tags": []
   },
   "outputs": [
    {
     "output_type": "execute_result",
     "data": {
      "text/plain": [
       "True"
      ]
     },
     "metadata": {},
     "execution_count": 35
    }
   ],
   "source": [
    "######################cv contours#########\n",
    "# Invert floodfilled image\n",
    "im_floodfill_inv = cv2.bitwise_not(im_floodfill)\n",
    "im2, contours_cv, hierarchy = cv2.findContours(im_floodfill_inv, cv2.RETR_TREE, cv2.CHAIN_APPROX_SIMPLE)\n",
    "hierarchy = hierarchy[0]\n",
    "#[Next, Previous, First_Child, Parent]\n",
    "im_empty = np.ones((hImg, wImg,3), np.uint8) * 255\n",
    "i=0\n",
    "for cnt in contours_cv:\n",
    "    #contours that has at least two children\n",
    "    child1Idx = hierarchy[i][2]\n",
    "    hasChildren = child1Idx != -1 and  hierarchy[child1Idx][0] != -1\n",
    "    if(hasChildren):\n",
    "        child2Idx = hierarchy[child1Idx][0]\n",
    "    x,y,w,h = cv2.boundingRect(cnt)\n",
    "    acceptedArea =    h<=200 and w <=400 and h>10 and w>30\n",
    "    #this two children are close (letters)\n",
    "    #check area\n",
    "    if(hasChildren and acceptedArea):\n",
    "        #print((w*h)/area)\n",
    "        x1,y1,w1,h1 = cv2.boundingRect(contours_cv[child1Idx])\n",
    "        x2,y2,w2,h2 = cv2.boundingRect(contours_cv[child2Idx])\n",
    "        if(sqrt((x1-x2)**2+((y1-y2)**2)) <= 200):\n",
    "            cv2.drawContours(im_empty, contours_cv, i, (0,0,0), 1)\n",
    "    if(child1Idx != -1 and  hierarchy[child1Idx][0] == -1):\n",
    "        x1,y1,w1,h1 = cv2.boundingRect(contours_cv[child1Idx])\n",
    "        if(w1/w >= 0.3):\n",
    "            cv2.drawContours(im_empty, contours_cv, i, (0,0,0), 1)\n",
    "    if(not hasChildren and acceptedArea and w/h >=1.2 ):#and w/h<=3.5 and acceptedArea):\n",
    "        #print(w/h,w,h)\n",
    "        cv2.drawContours(im_empty, contours_cv, i, (0,0,0), 1)\n",
    "\n",
    "    i+=1\n",
    "\n",
    "#cv2.drawContours(im_empty, contours_cv, -1, (0,0,0), 1)\n",
    "#print(hierarchy)\n",
    "cv2.imwrite(\"contoured.png\", im_empty)\n",
    "#########################################\n",
    "# Display images.\n",
    "cv2.imwrite(\"Thresholded_Image.png\", im_th)\n",
    "cv2.imwrite(\"Floodfilled_Image.png\", im_floodfill)\n",
    "cv2.imwrite(\"Inverted_Floodfilled_Image.png\", im_floodfill_inv)"
   ]
  },
  {
   "cell_type": "code",
   "execution_count": null,
   "metadata": {},
   "outputs": [],
   "source": []
  }
 ]
}